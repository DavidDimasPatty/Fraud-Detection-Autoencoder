{
 "cells": [
  {
   "cell_type": "markdown",
   "id": "2abbd694-ae20-4107-a0b0-f38489f88768",
   "metadata": {},
   "source": [
    "# **Import Package**"
   ]
  },
  {
   "cell_type": "code",
   "execution_count": 24,
   "id": "79960c85-0c40-45c0-ada5-dcac18408694",
   "metadata": {
    "ExecuteTime": {
     "end_time": "2025-06-18T13:07:43.259004Z",
     "start_time": "2025-06-18T13:07:43.252917Z"
    }
   },
   "outputs": [],
   "source": [
    "import pandas as pd\n",
    "import numpy as np\n",
    "import matplotlib.pyplot as plt\n",
    "import warnings\n",
    "from sklearn.preprocessing import StandardScaler\n",
    "from sklearn.preprocessing import LabelEncoder, MinMaxScaler\n",
    "from tensorflow.keras.models import Model\n",
    "from tensorflow.keras.layers import Input, Dense\n",
    "from sklearn.model_selection import train_test_split\n",
    "import tensorflow as tf\n",
    "from tensorflow.keras import layers, models\n",
    "warnings.filterwarnings(\"ignore\")\n",
    "import seaborn as sns\n",
    "from keras.optimizers import Adam\n",
    "from sklearn.metrics import confusion_matrix, accuracy_score, precision_score, recall_score, f1_score"
   ]
  },
  {
   "cell_type": "markdown",
   "id": "abf14342",
   "metadata": {
    "ExecuteTime": {
     "end_time": "2025-06-14T10:56:52.783376Z",
     "start_time": "2025-06-14T10:56:52.778289Z"
    }
   },
   "source": [
    "# **Load Data**"
   ]
  },
  {
   "cell_type": "code",
   "execution_count": 3,
   "id": "69b7bd95-2d27-496d-87e5-3e8c3a1b7c63",
   "metadata": {
    "ExecuteTime": {
     "end_time": "2025-06-18T11:49:11.322431Z",
     "start_time": "2025-06-18T11:48:56.005701Z"
    }
   },
   "outputs": [],
   "source": [
    "df=pd.read_csv(\"AIML Dataset.csv\")"
   ]
  },
  {
   "cell_type": "code",
   "execution_count": 4,
   "id": "fa49c4c2",
   "metadata": {
    "ExecuteTime": {
     "end_time": "2025-06-18T11:49:11.476348Z",
     "start_time": "2025-06-18T11:49:11.422141Z"
    },
    "scrolled": true
   },
   "outputs": [
    {
     "data": {
      "text/html": [
       "<div>\n",
       "<style scoped>\n",
       "    .dataframe tbody tr th:only-of-type {\n",
       "        vertical-align: middle;\n",
       "    }\n",
       "\n",
       "    .dataframe tbody tr th {\n",
       "        vertical-align: top;\n",
       "    }\n",
       "\n",
       "    .dataframe thead th {\n",
       "        text-align: right;\n",
       "    }\n",
       "</style>\n",
       "<table border=\"1\" class=\"dataframe\">\n",
       "  <thead>\n",
       "    <tr style=\"text-align: right;\">\n",
       "      <th></th>\n",
       "      <th>step</th>\n",
       "      <th>type</th>\n",
       "      <th>amount</th>\n",
       "      <th>nameOrig</th>\n",
       "      <th>oldbalanceOrg</th>\n",
       "      <th>newbalanceOrig</th>\n",
       "      <th>nameDest</th>\n",
       "      <th>oldbalanceDest</th>\n",
       "      <th>newbalanceDest</th>\n",
       "      <th>isFraud</th>\n",
       "      <th>isFlaggedFraud</th>\n",
       "    </tr>\n",
       "  </thead>\n",
       "  <tbody>\n",
       "    <tr>\n",
       "      <th>0</th>\n",
       "      <td>1</td>\n",
       "      <td>PAYMENT</td>\n",
       "      <td>9839.64</td>\n",
       "      <td>C1231006815</td>\n",
       "      <td>170136.0</td>\n",
       "      <td>160296.36</td>\n",
       "      <td>M1979787155</td>\n",
       "      <td>0.0</td>\n",
       "      <td>0.0</td>\n",
       "      <td>0</td>\n",
       "      <td>0</td>\n",
       "    </tr>\n",
       "    <tr>\n",
       "      <th>1</th>\n",
       "      <td>1</td>\n",
       "      <td>PAYMENT</td>\n",
       "      <td>1864.28</td>\n",
       "      <td>C1666544295</td>\n",
       "      <td>21249.0</td>\n",
       "      <td>19384.72</td>\n",
       "      <td>M2044282225</td>\n",
       "      <td>0.0</td>\n",
       "      <td>0.0</td>\n",
       "      <td>0</td>\n",
       "      <td>0</td>\n",
       "    </tr>\n",
       "    <tr>\n",
       "      <th>2</th>\n",
       "      <td>1</td>\n",
       "      <td>TRANSFER</td>\n",
       "      <td>181.00</td>\n",
       "      <td>C1305486145</td>\n",
       "      <td>181.0</td>\n",
       "      <td>0.00</td>\n",
       "      <td>C553264065</td>\n",
       "      <td>0.0</td>\n",
       "      <td>0.0</td>\n",
       "      <td>1</td>\n",
       "      <td>0</td>\n",
       "    </tr>\n",
       "    <tr>\n",
       "      <th>3</th>\n",
       "      <td>1</td>\n",
       "      <td>CASH_OUT</td>\n",
       "      <td>181.00</td>\n",
       "      <td>C840083671</td>\n",
       "      <td>181.0</td>\n",
       "      <td>0.00</td>\n",
       "      <td>C38997010</td>\n",
       "      <td>21182.0</td>\n",
       "      <td>0.0</td>\n",
       "      <td>1</td>\n",
       "      <td>0</td>\n",
       "    </tr>\n",
       "    <tr>\n",
       "      <th>4</th>\n",
       "      <td>1</td>\n",
       "      <td>PAYMENT</td>\n",
       "      <td>11668.14</td>\n",
       "      <td>C2048537720</td>\n",
       "      <td>41554.0</td>\n",
       "      <td>29885.86</td>\n",
       "      <td>M1230701703</td>\n",
       "      <td>0.0</td>\n",
       "      <td>0.0</td>\n",
       "      <td>0</td>\n",
       "      <td>0</td>\n",
       "    </tr>\n",
       "  </tbody>\n",
       "</table>\n",
       "</div>"
      ],
      "text/plain": [
       "   step      type    amount     nameOrig  oldbalanceOrg  newbalanceOrig  \\\n",
       "0     1   PAYMENT   9839.64  C1231006815       170136.0       160296.36   \n",
       "1     1   PAYMENT   1864.28  C1666544295        21249.0        19384.72   \n",
       "2     1  TRANSFER    181.00  C1305486145          181.0            0.00   \n",
       "3     1  CASH_OUT    181.00   C840083671          181.0            0.00   \n",
       "4     1   PAYMENT  11668.14  C2048537720        41554.0        29885.86   \n",
       "\n",
       "      nameDest  oldbalanceDest  newbalanceDest  isFraud  isFlaggedFraud  \n",
       "0  M1979787155             0.0             0.0        0               0  \n",
       "1  M2044282225             0.0             0.0        0               0  \n",
       "2   C553264065             0.0             0.0        1               0  \n",
       "3    C38997010         21182.0             0.0        1               0  \n",
       "4  M1230701703             0.0             0.0        0               0  "
      ]
     },
     "execution_count": 4,
     "metadata": {},
     "output_type": "execute_result"
    }
   ],
   "source": [
    "df.head()"
   ]
  },
  {
   "cell_type": "code",
   "execution_count": 5,
   "id": "454f3f7a",
   "metadata": {
    "ExecuteTime": {
     "end_time": "2025-06-18T11:49:11.525382Z",
     "start_time": "2025-06-18T11:49:11.484966Z"
    }
   },
   "outputs": [
    {
     "name": "stdout",
     "output_type": "stream",
     "text": [
      "<class 'pandas.core.frame.DataFrame'>\n",
      "RangeIndex: 6362620 entries, 0 to 6362619\n",
      "Data columns (total 11 columns):\n",
      " #   Column          Dtype  \n",
      "---  ------          -----  \n",
      " 0   step            int64  \n",
      " 1   type            object \n",
      " 2   amount          float64\n",
      " 3   nameOrig        object \n",
      " 4   oldbalanceOrg   float64\n",
      " 5   newbalanceOrig  float64\n",
      " 6   nameDest        object \n",
      " 7   oldbalanceDest  float64\n",
      " 8   newbalanceDest  float64\n",
      " 9   isFraud         int64  \n",
      " 10  isFlaggedFraud  int64  \n",
      "dtypes: float64(5), int64(3), object(3)\n",
      "memory usage: 534.0+ MB\n"
     ]
    }
   ],
   "source": [
    "df.info()"
   ]
  },
  {
   "cell_type": "code",
   "execution_count": 6,
   "id": "d53fc900",
   "metadata": {
    "ExecuteTime": {
     "end_time": "2025-06-18T11:49:11.543110Z",
     "start_time": "2025-06-18T11:49:11.537454Z"
    }
   },
   "outputs": [
    {
     "data": {
      "text/plain": [
       "Index(['step', 'type', 'amount', 'nameOrig', 'oldbalanceOrg', 'newbalanceOrig',\n",
       "       'nameDest', 'oldbalanceDest', 'newbalanceDest', 'isFraud',\n",
       "       'isFlaggedFraud'],\n",
       "      dtype='object')"
      ]
     },
     "execution_count": 6,
     "metadata": {},
     "output_type": "execute_result"
    }
   ],
   "source": [
    "df.columns"
   ]
  },
  {
   "cell_type": "markdown",
   "id": "27d2e979",
   "metadata": {},
   "source": [
    "# **Modeling Data**"
   ]
  },
  {
   "cell_type": "code",
   "execution_count": 7,
   "id": "afb80aa1",
   "metadata": {
    "ExecuteTime": {
     "end_time": "2025-06-18T11:49:11.743201Z",
     "start_time": "2025-06-18T11:49:11.551971Z"
    },
    "scrolled": true
   },
   "outputs": [],
   "source": [
    "df.drop([\"nameOrig\", \"nameDest\", \"isFlaggedFraud\"], axis=1, inplace=True)"
   ]
  },
  {
   "cell_type": "code",
   "execution_count": 8,
   "id": "e29ced0c",
   "metadata": {
    "ExecuteTime": {
     "end_time": "2025-06-18T11:49:11.757616Z",
     "start_time": "2025-06-18T11:49:11.752802Z"
    }
   },
   "outputs": [
    {
     "data": {
      "text/plain": [
       "Index(['step', 'type', 'amount', 'oldbalanceOrg', 'newbalanceOrig',\n",
       "       'oldbalanceDest', 'newbalanceDest', 'isFraud'],\n",
       "      dtype='object')"
      ]
     },
     "execution_count": 8,
     "metadata": {},
     "output_type": "execute_result"
    }
   ],
   "source": [
    "df.columns"
   ]
  },
  {
   "cell_type": "code",
   "execution_count": 9,
   "id": "a8a3378e",
   "metadata": {
    "ExecuteTime": {
     "end_time": "2025-06-18T11:49:13.184638Z",
     "start_time": "2025-06-18T11:49:11.769441Z"
    }
   },
   "outputs": [
    {
     "data": {
      "text/html": [
       "<div>\n",
       "<style scoped>\n",
       "    .dataframe tbody tr th:only-of-type {\n",
       "        vertical-align: middle;\n",
       "    }\n",
       "\n",
       "    .dataframe tbody tr th {\n",
       "        vertical-align: top;\n",
       "    }\n",
       "\n",
       "    .dataframe thead th {\n",
       "        text-align: right;\n",
       "    }\n",
       "</style>\n",
       "<table border=\"1\" class=\"dataframe\">\n",
       "  <thead>\n",
       "    <tr style=\"text-align: right;\">\n",
       "      <th></th>\n",
       "      <th>step</th>\n",
       "      <th>type</th>\n",
       "      <th>amount</th>\n",
       "      <th>oldbalanceOrg</th>\n",
       "      <th>newbalanceOrig</th>\n",
       "      <th>oldbalanceDest</th>\n",
       "      <th>newbalanceDest</th>\n",
       "      <th>isFraud</th>\n",
       "    </tr>\n",
       "  </thead>\n",
       "  <tbody>\n",
       "    <tr>\n",
       "      <th>0</th>\n",
       "      <td>1</td>\n",
       "      <td>3</td>\n",
       "      <td>9839.64</td>\n",
       "      <td>170136.0</td>\n",
       "      <td>160296.36</td>\n",
       "      <td>0.0</td>\n",
       "      <td>0.0</td>\n",
       "      <td>0</td>\n",
       "    </tr>\n",
       "    <tr>\n",
       "      <th>1</th>\n",
       "      <td>1</td>\n",
       "      <td>3</td>\n",
       "      <td>1864.28</td>\n",
       "      <td>21249.0</td>\n",
       "      <td>19384.72</td>\n",
       "      <td>0.0</td>\n",
       "      <td>0.0</td>\n",
       "      <td>0</td>\n",
       "    </tr>\n",
       "    <tr>\n",
       "      <th>2</th>\n",
       "      <td>1</td>\n",
       "      <td>4</td>\n",
       "      <td>181.00</td>\n",
       "      <td>181.0</td>\n",
       "      <td>0.00</td>\n",
       "      <td>0.0</td>\n",
       "      <td>0.0</td>\n",
       "      <td>1</td>\n",
       "    </tr>\n",
       "    <tr>\n",
       "      <th>3</th>\n",
       "      <td>1</td>\n",
       "      <td>1</td>\n",
       "      <td>181.00</td>\n",
       "      <td>181.0</td>\n",
       "      <td>0.00</td>\n",
       "      <td>21182.0</td>\n",
       "      <td>0.0</td>\n",
       "      <td>1</td>\n",
       "    </tr>\n",
       "    <tr>\n",
       "      <th>4</th>\n",
       "      <td>1</td>\n",
       "      <td>3</td>\n",
       "      <td>11668.14</td>\n",
       "      <td>41554.0</td>\n",
       "      <td>29885.86</td>\n",
       "      <td>0.0</td>\n",
       "      <td>0.0</td>\n",
       "      <td>0</td>\n",
       "    </tr>\n",
       "  </tbody>\n",
       "</table>\n",
       "</div>"
      ],
      "text/plain": [
       "   step  type    amount  oldbalanceOrg  newbalanceOrig  oldbalanceDest  \\\n",
       "0     1     3   9839.64       170136.0       160296.36             0.0   \n",
       "1     1     3   1864.28        21249.0        19384.72             0.0   \n",
       "2     1     4    181.00          181.0            0.00             0.0   \n",
       "3     1     1    181.00          181.0            0.00         21182.0   \n",
       "4     1     3  11668.14        41554.0        29885.86             0.0   \n",
       "\n",
       "   newbalanceDest  isFraud  \n",
       "0             0.0        0  \n",
       "1             0.0        0  \n",
       "2             0.0        1  \n",
       "3             0.0        1  \n",
       "4             0.0        0  "
      ]
     },
     "execution_count": 9,
     "metadata": {},
     "output_type": "execute_result"
    }
   ],
   "source": [
    "le = LabelEncoder()\n",
    "df[\"type\"] = le.fit_transform(df[\"type\"])\n",
    "df.head()"
   ]
  },
  {
   "cell_type": "code",
   "execution_count": 10,
   "id": "ce0598aa",
   "metadata": {
    "ExecuteTime": {
     "end_time": "2025-06-18T11:49:14.202550Z",
     "start_time": "2025-06-18T11:49:13.216141Z"
    }
   },
   "outputs": [],
   "source": [
    "# Normalisasi fitur numerik\n",
    "scaler = MinMaxScaler()\n",
    "df_scaled = pd.DataFrame(scaler.fit_transform(df.drop(\"isFraud\", axis=1)), columns=df.drop(\"isFraud\", axis=1).columns)"
   ]
  },
  {
   "cell_type": "code",
   "execution_count": 11,
   "id": "f75043da",
   "metadata": {
    "ExecuteTime": {
     "end_time": "2025-06-18T11:49:14.231794Z",
     "start_time": "2025-06-18T11:49:14.217217Z"
    }
   },
   "outputs": [
    {
     "data": {
      "text/html": [
       "<div>\n",
       "<style scoped>\n",
       "    .dataframe tbody tr th:only-of-type {\n",
       "        vertical-align: middle;\n",
       "    }\n",
       "\n",
       "    .dataframe tbody tr th {\n",
       "        vertical-align: top;\n",
       "    }\n",
       "\n",
       "    .dataframe thead th {\n",
       "        text-align: right;\n",
       "    }\n",
       "</style>\n",
       "<table border=\"1\" class=\"dataframe\">\n",
       "  <thead>\n",
       "    <tr style=\"text-align: right;\">\n",
       "      <th></th>\n",
       "      <th>step</th>\n",
       "      <th>type</th>\n",
       "      <th>amount</th>\n",
       "      <th>oldbalanceOrg</th>\n",
       "      <th>newbalanceOrig</th>\n",
       "      <th>oldbalanceDest</th>\n",
       "      <th>newbalanceDest</th>\n",
       "    </tr>\n",
       "  </thead>\n",
       "  <tbody>\n",
       "    <tr>\n",
       "      <th>0</th>\n",
       "      <td>0.0</td>\n",
       "      <td>0.75</td>\n",
       "      <td>0.000106</td>\n",
       "      <td>0.002855</td>\n",
       "      <td>0.003233</td>\n",
       "      <td>0.000000</td>\n",
       "      <td>0.0</td>\n",
       "    </tr>\n",
       "    <tr>\n",
       "      <th>1</th>\n",
       "      <td>0.0</td>\n",
       "      <td>0.75</td>\n",
       "      <td>0.000020</td>\n",
       "      <td>0.000357</td>\n",
       "      <td>0.000391</td>\n",
       "      <td>0.000000</td>\n",
       "      <td>0.0</td>\n",
       "    </tr>\n",
       "    <tr>\n",
       "      <th>2</th>\n",
       "      <td>0.0</td>\n",
       "      <td>1.00</td>\n",
       "      <td>0.000002</td>\n",
       "      <td>0.000003</td>\n",
       "      <td>0.000000</td>\n",
       "      <td>0.000000</td>\n",
       "      <td>0.0</td>\n",
       "    </tr>\n",
       "    <tr>\n",
       "      <th>3</th>\n",
       "      <td>0.0</td>\n",
       "      <td>0.25</td>\n",
       "      <td>0.000002</td>\n",
       "      <td>0.000003</td>\n",
       "      <td>0.000000</td>\n",
       "      <td>0.000059</td>\n",
       "      <td>0.0</td>\n",
       "    </tr>\n",
       "    <tr>\n",
       "      <th>4</th>\n",
       "      <td>0.0</td>\n",
       "      <td>0.75</td>\n",
       "      <td>0.000126</td>\n",
       "      <td>0.000697</td>\n",
       "      <td>0.000603</td>\n",
       "      <td>0.000000</td>\n",
       "      <td>0.0</td>\n",
       "    </tr>\n",
       "  </tbody>\n",
       "</table>\n",
       "</div>"
      ],
      "text/plain": [
       "   step  type    amount  oldbalanceOrg  newbalanceOrig  oldbalanceDest  \\\n",
       "0   0.0  0.75  0.000106       0.002855        0.003233        0.000000   \n",
       "1   0.0  0.75  0.000020       0.000357        0.000391        0.000000   \n",
       "2   0.0  1.00  0.000002       0.000003        0.000000        0.000000   \n",
       "3   0.0  0.25  0.000002       0.000003        0.000000        0.000059   \n",
       "4   0.0  0.75  0.000126       0.000697        0.000603        0.000000   \n",
       "\n",
       "   newbalanceDest  \n",
       "0             0.0  \n",
       "1             0.0  \n",
       "2             0.0  \n",
       "3             0.0  \n",
       "4             0.0  "
      ]
     },
     "execution_count": 11,
     "metadata": {},
     "output_type": "execute_result"
    }
   ],
   "source": [
    "df_scaled.head()"
   ]
  },
  {
   "cell_type": "code",
   "execution_count": 12,
   "id": "b7b1a533",
   "metadata": {
    "ExecuteTime": {
     "end_time": "2025-06-18T11:49:14.291475Z",
     "start_time": "2025-06-18T11:49:14.250755Z"
    }
   },
   "outputs": [
    {
     "data": {
      "text/html": [
       "<div>\n",
       "<style scoped>\n",
       "    .dataframe tbody tr th:only-of-type {\n",
       "        vertical-align: middle;\n",
       "    }\n",
       "\n",
       "    .dataframe tbody tr th {\n",
       "        vertical-align: top;\n",
       "    }\n",
       "\n",
       "    .dataframe thead th {\n",
       "        text-align: right;\n",
       "    }\n",
       "</style>\n",
       "<table border=\"1\" class=\"dataframe\">\n",
       "  <thead>\n",
       "    <tr style=\"text-align: right;\">\n",
       "      <th></th>\n",
       "      <th>step</th>\n",
       "      <th>type</th>\n",
       "      <th>amount</th>\n",
       "      <th>oldbalanceOrg</th>\n",
       "      <th>newbalanceOrig</th>\n",
       "      <th>oldbalanceDest</th>\n",
       "      <th>newbalanceDest</th>\n",
       "      <th>isFraud</th>\n",
       "    </tr>\n",
       "  </thead>\n",
       "  <tbody>\n",
       "    <tr>\n",
       "      <th>0</th>\n",
       "      <td>0.0</td>\n",
       "      <td>0.75</td>\n",
       "      <td>0.000106</td>\n",
       "      <td>0.002855</td>\n",
       "      <td>0.003233</td>\n",
       "      <td>0.000000</td>\n",
       "      <td>0.0</td>\n",
       "      <td>0</td>\n",
       "    </tr>\n",
       "    <tr>\n",
       "      <th>1</th>\n",
       "      <td>0.0</td>\n",
       "      <td>0.75</td>\n",
       "      <td>0.000020</td>\n",
       "      <td>0.000357</td>\n",
       "      <td>0.000391</td>\n",
       "      <td>0.000000</td>\n",
       "      <td>0.0</td>\n",
       "      <td>0</td>\n",
       "    </tr>\n",
       "    <tr>\n",
       "      <th>2</th>\n",
       "      <td>0.0</td>\n",
       "      <td>1.00</td>\n",
       "      <td>0.000002</td>\n",
       "      <td>0.000003</td>\n",
       "      <td>0.000000</td>\n",
       "      <td>0.000000</td>\n",
       "      <td>0.0</td>\n",
       "      <td>1</td>\n",
       "    </tr>\n",
       "    <tr>\n",
       "      <th>3</th>\n",
       "      <td>0.0</td>\n",
       "      <td>0.25</td>\n",
       "      <td>0.000002</td>\n",
       "      <td>0.000003</td>\n",
       "      <td>0.000000</td>\n",
       "      <td>0.000059</td>\n",
       "      <td>0.0</td>\n",
       "      <td>1</td>\n",
       "    </tr>\n",
       "    <tr>\n",
       "      <th>4</th>\n",
       "      <td>0.0</td>\n",
       "      <td>0.75</td>\n",
       "      <td>0.000126</td>\n",
       "      <td>0.000697</td>\n",
       "      <td>0.000603</td>\n",
       "      <td>0.000000</td>\n",
       "      <td>0.0</td>\n",
       "      <td>0</td>\n",
       "    </tr>\n",
       "  </tbody>\n",
       "</table>\n",
       "</div>"
      ],
      "text/plain": [
       "   step  type    amount  oldbalanceOrg  newbalanceOrig  oldbalanceDest  \\\n",
       "0   0.0  0.75  0.000106       0.002855        0.003233        0.000000   \n",
       "1   0.0  0.75  0.000020       0.000357        0.000391        0.000000   \n",
       "2   0.0  1.00  0.000002       0.000003        0.000000        0.000000   \n",
       "3   0.0  0.25  0.000002       0.000003        0.000000        0.000059   \n",
       "4   0.0  0.75  0.000126       0.000697        0.000603        0.000000   \n",
       "\n",
       "   newbalanceDest  isFraud  \n",
       "0             0.0        0  \n",
       "1             0.0        0  \n",
       "2             0.0        1  \n",
       "3             0.0        1  \n",
       "4             0.0        0  "
      ]
     },
     "execution_count": 12,
     "metadata": {},
     "output_type": "execute_result"
    }
   ],
   "source": [
    "# Tambahkan isFraud kembali, untuk nanti testing\n",
    "df_scaled[\"isFraud\"] = df[\"isFraud\"].values\n",
    "df_scaled.head()"
   ]
  },
  {
   "cell_type": "code",
   "execution_count": 13,
   "id": "42139ef5",
   "metadata": {
    "ExecuteTime": {
     "end_time": "2025-06-18T11:49:14.837706Z",
     "start_time": "2025-06-18T11:49:14.306213Z"
    }
   },
   "outputs": [
    {
     "data": {
      "text/html": [
       "<div>\n",
       "<style scoped>\n",
       "    .dataframe tbody tr th:only-of-type {\n",
       "        vertical-align: middle;\n",
       "    }\n",
       "\n",
       "    .dataframe tbody tr th {\n",
       "        vertical-align: top;\n",
       "    }\n",
       "\n",
       "    .dataframe thead th {\n",
       "        text-align: right;\n",
       "    }\n",
       "</style>\n",
       "<table border=\"1\" class=\"dataframe\">\n",
       "  <thead>\n",
       "    <tr style=\"text-align: right;\">\n",
       "      <th></th>\n",
       "      <th>step</th>\n",
       "      <th>type</th>\n",
       "      <th>amount</th>\n",
       "      <th>oldbalanceOrg</th>\n",
       "      <th>newbalanceOrig</th>\n",
       "      <th>oldbalanceDest</th>\n",
       "      <th>newbalanceDest</th>\n",
       "    </tr>\n",
       "  </thead>\n",
       "  <tbody>\n",
       "    <tr>\n",
       "      <th>0</th>\n",
       "      <td>0.0</td>\n",
       "      <td>0.75</td>\n",
       "      <td>0.000106</td>\n",
       "      <td>0.002855</td>\n",
       "      <td>0.003233</td>\n",
       "      <td>0.0</td>\n",
       "      <td>0.0</td>\n",
       "    </tr>\n",
       "    <tr>\n",
       "      <th>1</th>\n",
       "      <td>0.0</td>\n",
       "      <td>0.75</td>\n",
       "      <td>0.000020</td>\n",
       "      <td>0.000357</td>\n",
       "      <td>0.000391</td>\n",
       "      <td>0.0</td>\n",
       "      <td>0.0</td>\n",
       "    </tr>\n",
       "    <tr>\n",
       "      <th>4</th>\n",
       "      <td>0.0</td>\n",
       "      <td>0.75</td>\n",
       "      <td>0.000126</td>\n",
       "      <td>0.000697</td>\n",
       "      <td>0.000603</td>\n",
       "      <td>0.0</td>\n",
       "      <td>0.0</td>\n",
       "    </tr>\n",
       "    <tr>\n",
       "      <th>5</th>\n",
       "      <td>0.0</td>\n",
       "      <td>0.75</td>\n",
       "      <td>0.000085</td>\n",
       "      <td>0.000904</td>\n",
       "      <td>0.000929</td>\n",
       "      <td>0.0</td>\n",
       "      <td>0.0</td>\n",
       "    </tr>\n",
       "    <tr>\n",
       "      <th>6</th>\n",
       "      <td>0.0</td>\n",
       "      <td>0.75</td>\n",
       "      <td>0.000077</td>\n",
       "      <td>0.003075</td>\n",
       "      <td>0.003551</td>\n",
       "      <td>0.0</td>\n",
       "      <td>0.0</td>\n",
       "    </tr>\n",
       "  </tbody>\n",
       "</table>\n",
       "</div>"
      ],
      "text/plain": [
       "   step  type    amount  oldbalanceOrg  newbalanceOrig  oldbalanceDest  \\\n",
       "0   0.0  0.75  0.000106       0.002855        0.003233             0.0   \n",
       "1   0.0  0.75  0.000020       0.000357        0.000391             0.0   \n",
       "4   0.0  0.75  0.000126       0.000697        0.000603             0.0   \n",
       "5   0.0  0.75  0.000085       0.000904        0.000929             0.0   \n",
       "6   0.0  0.75  0.000077       0.003075        0.003551             0.0   \n",
       "\n",
       "   newbalanceDest  \n",
       "0             0.0  \n",
       "1             0.0  \n",
       "4             0.0  \n",
       "5             0.0  \n",
       "6             0.0  "
      ]
     },
     "execution_count": 13,
     "metadata": {},
     "output_type": "execute_result"
    }
   ],
   "source": [
    "df_train = df_scaled[df_scaled[\"isFraud\"] == 0].drop(\"isFraud\", axis=1)\n",
    "df_train.head()"
   ]
  },
  {
   "cell_type": "code",
   "execution_count": 14,
   "id": "e6dfa1e6",
   "metadata": {
    "ExecuteTime": {
     "end_time": "2025-06-18T11:49:36.990505Z",
     "start_time": "2025-06-18T11:49:14.853976Z"
    }
   },
   "outputs": [
    {
     "data": {
      "text/plain": [
       "step      type  amount    oldbalanceOrg  newbalanceOrig  oldbalanceDest  newbalanceDest\n",
       "0.413747  0.75  0.000006  0.000000       0.0             0.000000        0.000000          2\n",
       "0.336927  0.75  0.000123  0.000000       0.0             0.000000        0.000000          2\n",
       "0.308625  0.75  0.000029  0.000000       0.0             0.000000        0.000000          2\n",
       "0.339623  0.75  0.000072  0.000000       0.0             0.000000        0.000000          2\n",
       "0.497305  0.75  0.000006  0.000000       0.0             0.000000        0.000000          2\n",
       "                                                                                          ..\n",
       "0.245283  0.25  0.003554  0.000000       0.0             0.001711        0.002633          1\n",
       "                          0.000862       0.0             0.001232        0.002154          1\n",
       "                0.003552  0.000000       0.0             0.010463        0.011380          1\n",
       "                          0.000172       0.0             0.000108        0.000000          1\n",
       "0.966307  1.00  0.003135  0.001789       0.0             0.000000        0.000814          1\n",
       "Name: count, Length: 6353880, dtype: int64"
      ]
     },
     "execution_count": 14,
     "metadata": {},
     "output_type": "execute_result"
    }
   ],
   "source": [
    "df_train.value_counts()"
   ]
  },
  {
   "cell_type": "code",
   "execution_count": 15,
   "id": "8315917b",
   "metadata": {
    "ExecuteTime": {
     "end_time": "2025-06-18T11:49:37.366993Z",
     "start_time": "2025-06-18T11:49:37.017983Z"
    }
   },
   "outputs": [
    {
     "data": {
      "text/plain": [
       "step              6362620\n",
       "type              6362620\n",
       "amount            6362620\n",
       "oldbalanceOrg     6362620\n",
       "newbalanceOrig    6362620\n",
       "oldbalanceDest    6362620\n",
       "newbalanceDest    6362620\n",
       "dtype: int64"
      ]
     },
     "execution_count": 15,
     "metadata": {},
     "output_type": "execute_result"
    }
   ],
   "source": [
    "df_test = df_scaled.drop(\"isFraud\", axis=1)\n",
    "df_test.head()\n",
    "df_test.count()"
   ]
  },
  {
   "cell_type": "code",
   "execution_count": 48,
   "id": "eea85f9f",
   "metadata": {
    "ExecuteTime": {
     "end_time": "2025-06-18T14:18:00.412535Z",
     "start_time": "2025-06-18T14:18:00.406538Z"
    }
   },
   "outputs": [
    {
     "name": "stdout",
     "output_type": "stream",
     "text": [
      "(6354407, 7)\n"
     ]
    },
    {
     "data": {
      "text/plain": [
       "tuple"
      ]
     },
     "execution_count": 48,
     "metadata": {},
     "output_type": "execute_result"
    }
   ],
   "source": [
    "print(df_train.shape)\n",
    "type(df_train.shape)"
   ]
  },
  {
   "cell_type": "code",
   "execution_count": 49,
   "id": "5c9ed5b8",
   "metadata": {
    "ExecuteTime": {
     "end_time": "2025-06-18T14:19:24.395224Z",
     "start_time": "2025-06-18T14:19:24.390223Z"
    }
   },
   "outputs": [
    {
     "data": {
      "text/plain": [
       "7"
      ]
     },
     "execution_count": 49,
     "metadata": {},
     "output_type": "execute_result"
    }
   ],
   "source": [
    "df_train.shape[1]"
   ]
  },
  {
   "cell_type": "markdown",
   "id": "55def182",
   "metadata": {},
   "source": [
    "# **training**"
   ]
  },
  {
   "cell_type": "code",
   "execution_count": 53,
   "id": "af310213",
   "metadata": {
    "ExecuteTime": {
     "end_time": "2025-06-18T14:20:49.742852Z",
     "start_time": "2025-06-18T14:20:49.686611Z"
    }
   },
   "outputs": [],
   "source": [
    "input_dim = df_train.shape[1]\n",
    "\n",
    "# Build Autoencoder\n",
    "autoencoder = models.Sequential([\n",
    "    layers.Input(shape=(input_dim,)),\n",
    "    layers.Dense(16, activation='relu'),\n",
    "    layers.Dense(8, activation='relu'),\n",
    "    layers.Dense(4, activation='relu'),  # Bottleneck\n",
    "    layers.Dense(8, activation='relu'),\n",
    "    layers.Dense(16, activation='relu'),\n",
    "    layers.Dense(input_dim, activation='linear')\n",
    "])"
   ]
  },
  {
   "cell_type": "code",
   "execution_count": 59,
   "id": "2b201fc0",
   "metadata": {
    "ExecuteTime": {
     "end_time": "2025-06-18T16:10:03.721845Z",
     "start_time": "2025-06-18T15:52:09.811642Z"
    },
    "scrolled": true
   },
   "outputs": [
    {
     "name": "stdout",
     "output_type": "stream",
     "text": [
      "Epoch 1/30\n",
      "\u001b[1m19858/19858\u001b[0m \u001b[32m━━━━━━━━━━━━━━━━━━━━\u001b[0m\u001b[37m\u001b[0m \u001b[1m37s\u001b[0m 2ms/step - loss: 2.9848e-06 - val_loss: 0.0019\n",
      "Epoch 2/30\n",
      "\u001b[1m19858/19858\u001b[0m \u001b[32m━━━━━━━━━━━━━━━━━━━━\u001b[0m\u001b[37m\u001b[0m \u001b[1m34s\u001b[0m 2ms/step - loss: 1.3312e-06 - val_loss: 0.0022\n",
      "Epoch 3/30\n",
      "\u001b[1m19858/19858\u001b[0m \u001b[32m━━━━━━━━━━━━━━━━━━━━\u001b[0m\u001b[37m\u001b[0m \u001b[1m34s\u001b[0m 2ms/step - loss: 1.2027e-06 - val_loss: 0.0023\n",
      "Epoch 4/30\n",
      "\u001b[1m19858/19858\u001b[0m \u001b[32m━━━━━━━━━━━━━━━━━━━━\u001b[0m\u001b[37m\u001b[0m \u001b[1m35s\u001b[0m 2ms/step - loss: 1.1419e-06 - val_loss: 0.0025\n",
      "Epoch 5/30\n",
      "\u001b[1m19858/19858\u001b[0m \u001b[32m━━━━━━━━━━━━━━━━━━━━\u001b[0m\u001b[37m\u001b[0m \u001b[1m41s\u001b[0m 2ms/step - loss: 1.0835e-06 - val_loss: 0.0025\n",
      "Epoch 6/30\n",
      "\u001b[1m19858/19858\u001b[0m \u001b[32m━━━━━━━━━━━━━━━━━━━━\u001b[0m\u001b[37m\u001b[0m \u001b[1m41s\u001b[0m 2ms/step - loss: 1.0488e-06 - val_loss: 0.0025\n",
      "Epoch 7/30\n",
      "\u001b[1m19858/19858\u001b[0m \u001b[32m━━━━━━━━━━━━━━━━━━━━\u001b[0m\u001b[37m\u001b[0m \u001b[1m34s\u001b[0m 2ms/step - loss: 9.6862e-07 - val_loss: 0.0026\n",
      "Epoch 8/30\n",
      "\u001b[1m19858/19858\u001b[0m \u001b[32m━━━━━━━━━━━━━━━━━━━━\u001b[0m\u001b[37m\u001b[0m \u001b[1m36s\u001b[0m 2ms/step - loss: 9.1201e-07 - val_loss: 0.0027\n",
      "Epoch 9/30\n",
      "\u001b[1m19858/19858\u001b[0m \u001b[32m━━━━━━━━━━━━━━━━━━━━\u001b[0m\u001b[37m\u001b[0m \u001b[1m34s\u001b[0m 2ms/step - loss: 8.8447e-07 - val_loss: 0.0027\n",
      "Epoch 10/30\n",
      "\u001b[1m19858/19858\u001b[0m \u001b[32m━━━━━━━━━━━━━━━━━━━━\u001b[0m\u001b[37m\u001b[0m \u001b[1m40s\u001b[0m 2ms/step - loss: 8.7192e-07 - val_loss: 0.0027\n",
      "Epoch 11/30\n",
      "\u001b[1m19858/19858\u001b[0m \u001b[32m━━━━━━━━━━━━━━━━━━━━\u001b[0m\u001b[37m\u001b[0m \u001b[1m35s\u001b[0m 2ms/step - loss: 8.5189e-07 - val_loss: 0.0027\n",
      "Epoch 12/30\n",
      "\u001b[1m19858/19858\u001b[0m \u001b[32m━━━━━━━━━━━━━━━━━━━━\u001b[0m\u001b[37m\u001b[0m \u001b[1m39s\u001b[0m 2ms/step - loss: 8.3889e-07 - val_loss: 0.0027\n",
      "Epoch 13/30\n",
      "\u001b[1m19858/19858\u001b[0m \u001b[32m━━━━━━━━━━━━━━━━━━━━\u001b[0m\u001b[37m\u001b[0m \u001b[1m34s\u001b[0m 2ms/step - loss: 8.4977e-07 - val_loss: 0.0028\n",
      "Epoch 14/30\n",
      "\u001b[1m19858/19858\u001b[0m \u001b[32m━━━━━━━━━━━━━━━━━━━━\u001b[0m\u001b[37m\u001b[0m \u001b[1m34s\u001b[0m 2ms/step - loss: 8.2762e-07 - val_loss: 0.0028\n",
      "Epoch 15/30\n",
      "\u001b[1m19858/19858\u001b[0m \u001b[32m━━━━━━━━━━━━━━━━━━━━\u001b[0m\u001b[37m\u001b[0m \u001b[1m34s\u001b[0m 2ms/step - loss: 8.6249e-07 - val_loss: 0.0028\n",
      "Epoch 16/30\n",
      "\u001b[1m19858/19858\u001b[0m \u001b[32m━━━━━━━━━━━━━━━━━━━━\u001b[0m\u001b[37m\u001b[0m \u001b[1m33s\u001b[0m 2ms/step - loss: 8.1270e-07 - val_loss: 0.0029\n",
      "Epoch 17/30\n",
      "\u001b[1m19858/19858\u001b[0m \u001b[32m━━━━━━━━━━━━━━━━━━━━\u001b[0m\u001b[37m\u001b[0m \u001b[1m34s\u001b[0m 2ms/step - loss: 7.9241e-07 - val_loss: 0.0030\n",
      "Epoch 18/30\n",
      "\u001b[1m19858/19858\u001b[0m \u001b[32m━━━━━━━━━━━━━━━━━━━━\u001b[0m\u001b[37m\u001b[0m \u001b[1m33s\u001b[0m 2ms/step - loss: 7.9787e-07 - val_loss: 0.0029\n",
      "Epoch 19/30\n",
      "\u001b[1m19858/19858\u001b[0m \u001b[32m━━━━━━━━━━━━━━━━━━━━\u001b[0m\u001b[37m\u001b[0m \u001b[1m34s\u001b[0m 2ms/step - loss: 7.7264e-07 - val_loss: 0.0030\n",
      "Epoch 20/30\n",
      "\u001b[1m19858/19858\u001b[0m \u001b[32m━━━━━━━━━━━━━━━━━━━━\u001b[0m\u001b[37m\u001b[0m \u001b[1m33s\u001b[0m 2ms/step - loss: 7.7001e-07 - val_loss: 0.0030\n",
      "Epoch 21/30\n",
      "\u001b[1m19858/19858\u001b[0m \u001b[32m━━━━━━━━━━━━━━━━━━━━\u001b[0m\u001b[37m\u001b[0m \u001b[1m33s\u001b[0m 2ms/step - loss: 7.6272e-07 - val_loss: 0.0030\n",
      "Epoch 22/30\n",
      "\u001b[1m19858/19858\u001b[0m \u001b[32m━━━━━━━━━━━━━━━━━━━━\u001b[0m\u001b[37m\u001b[0m \u001b[1m33s\u001b[0m 2ms/step - loss: 7.5579e-07 - val_loss: 0.0031\n",
      "Epoch 23/30\n",
      "\u001b[1m19858/19858\u001b[0m \u001b[32m━━━━━━━━━━━━━━━━━━━━\u001b[0m\u001b[37m\u001b[0m \u001b[1m43s\u001b[0m 2ms/step - loss: 7.3910e-07 - val_loss: 0.0031\n",
      "Epoch 24/30\n",
      "\u001b[1m19858/19858\u001b[0m \u001b[32m━━━━━━━━━━━━━━━━━━━━\u001b[0m\u001b[37m\u001b[0m \u001b[1m38s\u001b[0m 2ms/step - loss: 7.2220e-07 - val_loss: 0.0031\n",
      "Epoch 25/30\n",
      "\u001b[1m19858/19858\u001b[0m \u001b[32m━━━━━━━━━━━━━━━━━━━━\u001b[0m\u001b[37m\u001b[0m \u001b[1m36s\u001b[0m 2ms/step - loss: 7.1237e-07 - val_loss: 0.0031\n",
      "Epoch 26/30\n",
      "\u001b[1m19858/19858\u001b[0m \u001b[32m━━━━━━━━━━━━━━━━━━━━\u001b[0m\u001b[37m\u001b[0m \u001b[1m34s\u001b[0m 2ms/step - loss: 7.0095e-07 - val_loss: 0.0031\n",
      "Epoch 27/30\n",
      "\u001b[1m19858/19858\u001b[0m \u001b[32m━━━━━━━━━━━━━━━━━━━━\u001b[0m\u001b[37m\u001b[0m \u001b[1m39s\u001b[0m 2ms/step - loss: 6.9009e-07 - val_loss: 0.0032\n",
      "Epoch 28/30\n",
      "\u001b[1m19858/19858\u001b[0m \u001b[32m━━━━━━━━━━━━━━━━━━━━\u001b[0m\u001b[37m\u001b[0m \u001b[1m39s\u001b[0m 2ms/step - loss: 6.9277e-07 - val_loss: 0.0032\n",
      "Epoch 29/30\n",
      "\u001b[1m19858/19858\u001b[0m \u001b[32m━━━━━━━━━━━━━━━━━━━━\u001b[0m\u001b[37m\u001b[0m \u001b[1m35s\u001b[0m 2ms/step - loss: 6.9276e-07 - val_loss: 0.0032\n",
      "Epoch 30/30\n",
      "\u001b[1m19858/19858\u001b[0m \u001b[32m━━━━━━━━━━━━━━━━━━━━\u001b[0m\u001b[37m\u001b[0m \u001b[1m33s\u001b[0m 2ms/step - loss: 6.6722e-07 - val_loss: 0.0032\n"
     ]
    }
   ],
   "source": [
    "autoencoder.compile(optimizer=Adam(learning_rate=0.002), loss='mse')\n",
    "\n",
    "# Train model\n",
    "history = autoencoder.fit(df_train, df_train,\n",
    "                          epochs=30,\n",
    "                          batch_size=256,\n",
    "                          shuffle=True,\n",
    "                          validation_split=0.2,\n",
    "                          verbose=1)"
   ]
  },
  {
   "cell_type": "markdown",
   "id": "2eeed7d7",
   "metadata": {
    "ExecuteTime": {
     "end_time": "2025-06-15T05:11:54.716480Z",
     "start_time": "2025-06-15T05:11:54.713117Z"
    }
   },
   "source": [
    "# **Prediksi**"
   ]
  },
  {
   "cell_type": "code",
   "execution_count": 60,
   "id": "ee0e14c0",
   "metadata": {
    "ExecuteTime": {
     "end_time": "2025-06-18T16:15:03.931392Z",
     "start_time": "2025-06-18T16:10:08.596287Z"
    }
   },
   "outputs": [
    {
     "name": "stdout",
     "output_type": "stream",
     "text": [
      "\u001b[1m198832/198832\u001b[0m \u001b[32m━━━━━━━━━━━━━━━━━━━━\u001b[0m\u001b[37m\u001b[0m \u001b[1m156s\u001b[0m 782us/step\n",
      "MSE :  0          2.032979e-07\n",
      "1          1.964075e-07\n",
      "2          1.869588e-07\n",
      "3          9.793883e-07\n",
      "4          1.947397e-07\n",
      "               ...     \n",
      "6362615    3.085356e-02\n",
      "6362616    2.532868e-02\n",
      "6362617    2.879291e-02\n",
      "6362618    2.831482e-02\n",
      "6362619    3.048973e-02\n",
      "Length: 6362620, dtype: float64\n"
     ]
    },
    {
     "data": {
      "image/png": "[encoded data removed]",
      "text/plain": [
       "<Figure size 1000x600 with 1 Axes>"
      ]
     },
     "metadata": {},
     "output_type": "display_data"
    },
    {
     "name": "stdout",
     "output_type": "stream",
     "text": [
      "0.008397999514224999\n",
      "Threshold Anomali: 0.008397999514224999\n"
     ]
    }
   ],
   "source": [
    "#ngetest pake forward propagation ke data test\n",
    "reconstructions = autoencoder.predict(df_test)\n",
    "\n",
    "#buat mse tiap baris dikurang 2 terus kuadrat\n",
    "mse = np.mean(np.power(df_test - reconstructions, 2), axis=1)\n",
    "print (\"MSE : \",mse)\n",
    "\n",
    "#gambar errornya saat ngebangun ulang si data input\n",
    "plt.figure(figsize=(10,6))\n",
    "sns.histplot(mse, bins=50, kde=True)\n",
    "plt.title(\"Distribusi Error Rekonstruksi\")\n",
    "plt.xlabel(\"MSE\")\n",
    "plt.ylabel(\"Jumlah Data\")\n",
    "plt.show()\n",
    "\n",
    "\n",
    "threshold = np.percentile(mse, 97)\n",
    "print(threshold)\n",
    "print(\"Threshold Anomali:\", threshold)"
   ]
  },
  {
   "cell_type": "code",
   "execution_count": 61,
   "id": "a877e91c",
   "metadata": {
    "ExecuteTime": {
     "end_time": "2025-06-18T16:15:22.082600Z",
     "start_time": "2025-06-18T16:15:22.067187Z"
    }
   },
   "outputs": [
    {
     "name": "stdout",
     "output_type": "stream",
     "text": [
      "Jumlah Anomali Terdeteksi: 190879\n"
     ]
    }
   ],
   "source": [
    "# data anomali dari prediksi\n",
    "anomalies = mse > threshold\n",
    "print(\"Jumlah Anomali Terdeteksi:\", np.sum(anomalies))"
   ]
  },
  {
   "cell_type": "code",
   "execution_count": 62,
   "id": "d4d84dde",
   "metadata": {
    "ExecuteTime": {
     "end_time": "2025-06-18T16:15:22.971076Z",
     "start_time": "2025-06-18T16:15:22.938254Z"
    }
   },
   "outputs": [
    {
     "name": "stdout",
     "output_type": "stream",
     "text": [
      "[0 0 1 ... 1 1 1]\n",
      "8213\n",
      "0          False\n",
      "1          False\n",
      "2          False\n",
      "3          False\n",
      "4          False\n",
      "           ...  \n",
      "6362615     True\n",
      "6362616     True\n",
      "6362617     True\n",
      "6362618     True\n",
      "6362619     True\n",
      "Length: 6362620, dtype: bool\n"
     ]
    }
   ],
   "source": [
    "#data fraud dari csv\n",
    "true_labels = df_scaled[\"isFraud\"].values\n",
    "print(true_labels)\n",
    "print((true_labels==1).sum())\n",
    "print(anomalies)"
   ]
  },
  {
   "cell_type": "code",
   "execution_count": 63,
   "id": "f62159bb",
   "metadata": {
    "ExecuteTime": {
     "end_time": "2025-06-18T16:15:32.961563Z",
     "start_time": "2025-06-18T16:15:25.506195Z"
    }
   },
   "outputs": [
    {
     "name": "stdout",
     "output_type": "stream",
     "text": [
      "Confusion Matrix:\n",
      " [[6165452  188955]\n",
      " [   6289    1924]]\n",
      "Accuracy: 0.969313898991296\n",
      "Precision: 0.010079683988285773\n",
      "Recall: 0.23426275417021794\n",
      "F1 Score: 0.01932774797581018\n"
     ]
    }
   ],
   "source": [
    "cm = confusion_matrix(true_labels, anomalies)\n",
    "accuracy = accuracy_score(true_labels, anomalies)\n",
    "precision = precision_score(true_labels, anomalies)\n",
    "recall = recall_score(true_labels, anomalies)\n",
    "f1 = f1_score(true_labels, anomalies)\n",
    "\n",
    "print(\"Confusion Matrix:\\n\", cm)\n",
    "print(\"Accuracy:\", accuracy)\n",
    "print(\"Precision:\", precision)\n",
    "print(\"Recall:\", recall)\n",
    "print(\"F1 Score:\", f1)"
   ]
  },
  {
   "cell_type": "code",
   "execution_count": null,
   "id": "ec3edbd6",
   "metadata": {
    "ExecuteTime": {
     "end_time": "2025-06-18T16:15:33.027798Z",
     "start_time": "2025-06-18T16:15:33.027798Z"
    },
    "scrolled": true
   },
   "outputs": [],
   "source": [
    "#perbandingan data anomali dengan data sesungguhnya\n",
    "labels = ['Prediksi', 'Asli']\n",
    "values = [np.sum(anomalies), (df_scaled[\"isFraud\"]==1).sum()]\n",
    "\n",
    "plt.bar(labels, values, color=['orange', 'green'])\n",
    "plt.ylabel('Jumlah')\n",
    "plt.title('Fraud Prediksi vs Fraud Asli')\n",
    "plt.show()"
   ]
  },
  {
   "cell_type": "code",
   "execution_count": null,
   "id": "afb166c4",
   "metadata": {
    "ExecuteTime": {
     "end_time": "2025-06-18T16:15:33.033798Z",
     "start_time": "2025-06-18T16:15:33.033798Z"
    }
   },
   "outputs": [],
   "source": [
    "#Anomaly index\n",
    "anomaly_indices = np.where(anomalies)[0]\n",
    "\n",
    "# Berapa anomaly yang memang fraud\n",
    "true_positive = df.iloc[anomaly_indices][\"isFraud\"].sum()\n",
    "\n",
    "print(f\"Anomali yang benar-benar fraud: {true_positive} dari {np.sum(anomalies)} anomaly terdeteksi\")"
   ]
  },
  {
   "cell_type": "code",
   "execution_count": null,
   "id": "4f689d7e",
   "metadata": {
    "ExecuteTime": {
     "end_time": "2025-06-18T16:15:33.042794Z",
     "start_time": "2025-06-18T16:15:33.042794Z"
    }
   },
   "outputs": [],
   "source": [
    "df_result = df_scaled.copy()\n",
    "df_result[\"reconstruction_error\"] = mse\n",
    "df_result[\"is_anomaly\"] = anomalies\n",
    "\n",
    "# Lihat data anomaly saja\n",
    "df_anomalies = df_result[df_result[\"is_anomaly\"] == True]\n",
    "print(df_anomalies.head())"
   ]
  },
  {
   "cell_type": "code",
   "execution_count": null,
   "id": "bffd6d67",
   "metadata": {},
   "outputs": [],
   "source": []
  }
 ],
 "metadata": {
  "kernelspec": {
   "display_name": "Python 3 (ipykernel)",
   "language": "python",
   "name": "python3"
  },
  "language_info": {
   "codemirror_mode": {
    "name": "ipython",
    "version": 3
   },
   "file_extension": ".py",
   "mimetype": "text/x-python",
   "name": "python",
   "nbconvert_exporter": "python",
   "pygments_lexer": "ipython3",
   "version": "3.12.3"
  },
  "toc": {
   "base_numbering": 1,
   "nav_menu": {},
   "number_sections": true,
   "sideBar": true,
   "skip_h1_title": false,
   "title_cell": "Table of Contents",
   "title_sidebar": "Contents",
   "toc_cell": false,
   "toc_position": {},
   "toc_section_display": true,
   "toc_window_display": false
  },
  "varInspector": {
   "cols": {
    "lenName": 16,
    "lenType": 16,
    "lenVar": 40
   },
   "kernels_config": {
    "python": {
     "delete_cmd_postfix": "",
     "delete_cmd_prefix": "del ",
     "library": "var_list.py",
     "varRefreshCmd": "print(var_dic_list())"
    },
    "r": {
     "delete_cmd_postfix": ") ",
     "delete_cmd_prefix": "rm(",
     "library": "var_list.r",
     "varRefreshCmd": "cat(var_dic_list()) "
    }
   },
   "types_to_exclude": [
    "module",
    "function",
    "builtin_function_or_method",
    "instance",
    "_Feature"
   ],
   "window_display": false
  }
 },
 "nbformat": 4,
 "nbformat_minor": 5
}
