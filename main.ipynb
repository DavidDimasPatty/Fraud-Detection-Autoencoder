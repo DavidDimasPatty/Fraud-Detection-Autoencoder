{
 "cells": [
  {
   "cell_type": "markdown",
   "id": "2abbd694-ae20-4107-a0b0-f38489f88768",
   "metadata": {},
   "source": [
    "# **Import Package**"
   ]
  },
  {
   "cell_type": "code",
   "execution_count": 2,
   "id": "79960c85-0c40-45c0-ada5-dcac18408694",
   "metadata": {
    "ExecuteTime": {
     "end_time": "2025-06-18T03:09:54.260743Z",
     "start_time": "2025-06-18T03:09:43.495079Z"
    }
   },
   "outputs": [],
   "source": [
    "import pandas as pd\n",
    "import numpy as np\n",
    "import matplotlib.pyplot as plt\n",
    "import warnings\n",
    "from sklearn.preprocessing import StandardScaler\n",
    "from sklearn.preprocessing import LabelEncoder, MinMaxScaler\n",
    "from tensorflow.keras.models import Model\n",
    "from tensorflow.keras.layers import Input, Dense\n",
    "from sklearn.model_selection import train_test_split\n",
    "import tensorflow as tf\n",
    "from tensorflow.keras import layers, models\n",
    "warnings.filterwarnings(\"ignore\")\n",
    "import seaborn as sns\n",
    "from keras.optimizers import Adam"
   ]
  },
  {
   "cell_type": "markdown",
   "id": "abf14342",
   "metadata": {
    "ExecuteTime": {
     "end_time": "2025-06-14T10:56:52.783376Z",
     "start_time": "2025-06-14T10:56:52.778289Z"
    }
   },
   "source": [
    "# **Load Data**"
   ]
  },
  {
   "cell_type": "code",
   "execution_count": 3,
   "id": "69b7bd95-2d27-496d-87e5-3e8c3a1b7c63",
   "metadata": {
    "ExecuteTime": {
     "end_time": "2025-06-18T03:10:10.884693Z",
     "start_time": "2025-06-18T03:09:54.281159Z"
    }
   },
   "outputs": [],
   "source": [
    "df=pd.read_csv(\"AIML Dataset.csv\")"
   ]
  },
  {
   "cell_type": "code",
   "execution_count": 4,
   "id": "fa49c4c2",
   "metadata": {
    "ExecuteTime": {
     "end_time": "2025-06-18T03:10:11.019961Z",
     "start_time": "2025-06-18T03:10:10.966674Z"
    },
    "scrolled": true
   },
   "outputs": [
    {
     "data": {
      "text/html": [
       "<div>\n",
       "<style scoped>\n",
       "    .dataframe tbody tr th:only-of-type {\n",
       "        vertical-align: middle;\n",
       "    }\n",
       "\n",
       "    .dataframe tbody tr th {\n",
       "        vertical-align: top;\n",
       "    }\n",
       "\n",
       "    .dataframe thead th {\n",
       "        text-align: right;\n",
       "    }\n",
       "</style>\n",
       "<table border=\"1\" class=\"dataframe\">\n",
       "  <thead>\n",
       "    <tr style=\"text-align: right;\">\n",
       "      <th></th>\n",
       "      <th>step</th>\n",
       "      <th>type</th>\n",
       "      <th>amount</th>\n",
       "      <th>nameOrig</th>\n",
       "      <th>oldbalanceOrg</th>\n",
       "      <th>newbalanceOrig</th>\n",
       "      <th>nameDest</th>\n",
       "      <th>oldbalanceDest</th>\n",
       "      <th>newbalanceDest</th>\n",
       "      <th>isFraud</th>\n",
       "      <th>isFlaggedFraud</th>\n",
       "    </tr>\n",
       "  </thead>\n",
       "  <tbody>\n",
       "    <tr>\n",
       "      <th>0</th>\n",
       "      <td>1</td>\n",
       "      <td>PAYMENT</td>\n",
       "      <td>9839.64</td>\n",
       "      <td>C1231006815</td>\n",
       "      <td>170136.0</td>\n",
       "      <td>160296.36</td>\n",
       "      <td>M1979787155</td>\n",
       "      <td>0.0</td>\n",
       "      <td>0.0</td>\n",
       "      <td>0</td>\n",
       "      <td>0</td>\n",
       "    </tr>\n",
       "    <tr>\n",
       "      <th>1</th>\n",
       "      <td>1</td>\n",
       "      <td>PAYMENT</td>\n",
       "      <td>1864.28</td>\n",
       "      <td>C1666544295</td>\n",
       "      <td>21249.0</td>\n",
       "      <td>19384.72</td>\n",
       "      <td>M2044282225</td>\n",
       "      <td>0.0</td>\n",
       "      <td>0.0</td>\n",
       "      <td>0</td>\n",
       "      <td>0</td>\n",
       "    </tr>\n",
       "    <tr>\n",
       "      <th>2</th>\n",
       "      <td>1</td>\n",
       "      <td>TRANSFER</td>\n",
       "      <td>181.00</td>\n",
       "      <td>C1305486145</td>\n",
       "      <td>181.0</td>\n",
       "      <td>0.00</td>\n",
       "      <td>C553264065</td>\n",
       "      <td>0.0</td>\n",
       "      <td>0.0</td>\n",
       "      <td>1</td>\n",
       "      <td>0</td>\n",
       "    </tr>\n",
       "    <tr>\n",
       "      <th>3</th>\n",
       "      <td>1</td>\n",
       "      <td>CASH_OUT</td>\n",
       "      <td>181.00</td>\n",
       "      <td>C840083671</td>\n",
       "      <td>181.0</td>\n",
       "      <td>0.00</td>\n",
       "      <td>C38997010</td>\n",
       "      <td>21182.0</td>\n",
       "      <td>0.0</td>\n",
       "      <td>1</td>\n",
       "      <td>0</td>\n",
       "    </tr>\n",
       "    <tr>\n",
       "      <th>4</th>\n",
       "      <td>1</td>\n",
       "      <td>PAYMENT</td>\n",
       "      <td>11668.14</td>\n",
       "      <td>C2048537720</td>\n",
       "      <td>41554.0</td>\n",
       "      <td>29885.86</td>\n",
       "      <td>M1230701703</td>\n",
       "      <td>0.0</td>\n",
       "      <td>0.0</td>\n",
       "      <td>0</td>\n",
       "      <td>0</td>\n",
       "    </tr>\n",
       "  </tbody>\n",
       "</table>\n",
       "</div>"
      ],
      "text/plain": [
       "   step      type    amount     nameOrig  oldbalanceOrg  newbalanceOrig  \\\n",
       "0     1   PAYMENT   9839.64  C1231006815       170136.0       160296.36   \n",
       "1     1   PAYMENT   1864.28  C1666544295        21249.0        19384.72   \n",
       "2     1  TRANSFER    181.00  C1305486145          181.0            0.00   \n",
       "3     1  CASH_OUT    181.00   C840083671          181.0            0.00   \n",
       "4     1   PAYMENT  11668.14  C2048537720        41554.0        29885.86   \n",
       "\n",
       "      nameDest  oldbalanceDest  newbalanceDest  isFraud  isFlaggedFraud  \n",
       "0  M1979787155             0.0             0.0        0               0  \n",
       "1  M2044282225             0.0             0.0        0               0  \n",
       "2   C553264065             0.0             0.0        1               0  \n",
       "3    C38997010         21182.0             0.0        1               0  \n",
       "4  M1230701703             0.0             0.0        0               0  "
      ]
     },
     "execution_count": 4,
     "metadata": {},
     "output_type": "execute_result"
    }
   ],
   "source": [
    "df.head()"
   ]
  },
  {
   "cell_type": "code",
   "execution_count": 5,
   "id": "454f3f7a",
   "metadata": {
    "ExecuteTime": {
     "end_time": "2025-06-18T03:10:11.072124Z",
     "start_time": "2025-06-18T03:10:11.030364Z"
    }
   },
   "outputs": [
    {
     "name": "stdout",
     "output_type": "stream",
     "text": [
      "<class 'pandas.core.frame.DataFrame'>\n",
      "RangeIndex: 6362620 entries, 0 to 6362619\n",
      "Data columns (total 11 columns):\n",
      " #   Column          Dtype  \n",
      "---  ------          -----  \n",
      " 0   step            int64  \n",
      " 1   type            object \n",
      " 2   amount          float64\n",
      " 3   nameOrig        object \n",
      " 4   oldbalanceOrg   float64\n",
      " 5   newbalanceOrig  float64\n",
      " 6   nameDest        object \n",
      " 7   oldbalanceDest  float64\n",
      " 8   newbalanceDest  float64\n",
      " 9   isFraud         int64  \n",
      " 10  isFlaggedFraud  int64  \n",
      "dtypes: float64(5), int64(3), object(3)\n",
      "memory usage: 534.0+ MB\n"
     ]
    }
   ],
   "source": [
    "df.info()"
   ]
  },
  {
   "cell_type": "code",
   "execution_count": 6,
   "id": "d53fc900",
   "metadata": {
    "ExecuteTime": {
     "end_time": "2025-06-18T03:10:11.093039Z",
     "start_time": "2025-06-18T03:10:11.087041Z"
    }
   },
   "outputs": [
    {
     "data": {
      "text/plain": [
       "Index(['step', 'type', 'amount', 'nameOrig', 'oldbalanceOrg', 'newbalanceOrig',\n",
       "       'nameDest', 'oldbalanceDest', 'newbalanceDest', 'isFraud',\n",
       "       'isFlaggedFraud'],\n",
       "      dtype='object')"
      ]
     },
     "execution_count": 6,
     "metadata": {},
     "output_type": "execute_result"
    }
   ],
   "source": [
    "df.columns"
   ]
  },
  {
   "cell_type": "markdown",
   "id": "27d2e979",
   "metadata": {},
   "source": [
    "# **Modeling Data**"
   ]
  },
  {
   "cell_type": "code",
   "execution_count": 7,
   "id": "afb80aa1",
   "metadata": {
    "ExecuteTime": {
     "end_time": "2025-06-18T03:15:11.049157Z",
     "start_time": "2025-06-18T03:15:10.767984Z"
    },
    "scrolled": true
   },
   "outputs": [],
   "source": [
    "df.drop([\"nameOrig\", \"nameDest\", \"isFlaggedFraud\"], axis=1, inplace=True)"
   ]
  },
  {
   "cell_type": "code",
   "execution_count": 8,
   "id": "e29ced0c",
   "metadata": {
    "ExecuteTime": {
     "end_time": "2025-06-18T03:15:12.396912Z",
     "start_time": "2025-06-18T03:15:12.391258Z"
    }
   },
   "outputs": [
    {
     "data": {
      "text/plain": [
       "Index(['step', 'type', 'amount', 'oldbalanceOrg', 'newbalanceOrig',\n",
       "       'oldbalanceDest', 'newbalanceDest', 'isFraud'],\n",
       "      dtype='object')"
      ]
     },
     "execution_count": 8,
     "metadata": {},
     "output_type": "execute_result"
    }
   ],
   "source": [
    "df.columns"
   ]
  },
  {
   "cell_type": "code",
   "execution_count": 9,
   "id": "a8a3378e",
   "metadata": {
    "ExecuteTime": {
     "end_time": "2025-06-18T03:15:15.798086Z",
     "start_time": "2025-06-18T03:15:14.438913Z"
    }
   },
   "outputs": [
    {
     "data": {
      "text/html": [
       "<div>\n",
       "<style scoped>\n",
       "    .dataframe tbody tr th:only-of-type {\n",
       "        vertical-align: middle;\n",
       "    }\n",
       "\n",
       "    .dataframe tbody tr th {\n",
       "        vertical-align: top;\n",
       "    }\n",
       "\n",
       "    .dataframe thead th {\n",
       "        text-align: right;\n",
       "    }\n",
       "</style>\n",
       "<table border=\"1\" class=\"dataframe\">\n",
       "  <thead>\n",
       "    <tr style=\"text-align: right;\">\n",
       "      <th></th>\n",
       "      <th>step</th>\n",
       "      <th>type</th>\n",
       "      <th>amount</th>\n",
       "      <th>oldbalanceOrg</th>\n",
       "      <th>newbalanceOrig</th>\n",
       "      <th>oldbalanceDest</th>\n",
       "      <th>newbalanceDest</th>\n",
       "      <th>isFraud</th>\n",
       "    </tr>\n",
       "  </thead>\n",
       "  <tbody>\n",
       "    <tr>\n",
       "      <th>0</th>\n",
       "      <td>1</td>\n",
       "      <td>3</td>\n",
       "      <td>9839.64</td>\n",
       "      <td>170136.0</td>\n",
       "      <td>160296.36</td>\n",
       "      <td>0.0</td>\n",
       "      <td>0.0</td>\n",
       "      <td>0</td>\n",
       "    </tr>\n",
       "    <tr>\n",
       "      <th>1</th>\n",
       "      <td>1</td>\n",
       "      <td>3</td>\n",
       "      <td>1864.28</td>\n",
       "      <td>21249.0</td>\n",
       "      <td>19384.72</td>\n",
       "      <td>0.0</td>\n",
       "      <td>0.0</td>\n",
       "      <td>0</td>\n",
       "    </tr>\n",
       "    <tr>\n",
       "      <th>2</th>\n",
       "      <td>1</td>\n",
       "      <td>4</td>\n",
       "      <td>181.00</td>\n",
       "      <td>181.0</td>\n",
       "      <td>0.00</td>\n",
       "      <td>0.0</td>\n",
       "      <td>0.0</td>\n",
       "      <td>1</td>\n",
       "    </tr>\n",
       "    <tr>\n",
       "      <th>3</th>\n",
       "      <td>1</td>\n",
       "      <td>1</td>\n",
       "      <td>181.00</td>\n",
       "      <td>181.0</td>\n",
       "      <td>0.00</td>\n",
       "      <td>21182.0</td>\n",
       "      <td>0.0</td>\n",
       "      <td>1</td>\n",
       "    </tr>\n",
       "    <tr>\n",
       "      <th>4</th>\n",
       "      <td>1</td>\n",
       "      <td>3</td>\n",
       "      <td>11668.14</td>\n",
       "      <td>41554.0</td>\n",
       "      <td>29885.86</td>\n",
       "      <td>0.0</td>\n",
       "      <td>0.0</td>\n",
       "      <td>0</td>\n",
       "    </tr>\n",
       "  </tbody>\n",
       "</table>\n",
       "</div>"
      ],
      "text/plain": [
       "   step  type    amount  oldbalanceOrg  newbalanceOrig  oldbalanceDest  \\\n",
       "0     1     3   9839.64       170136.0       160296.36             0.0   \n",
       "1     1     3   1864.28        21249.0        19384.72             0.0   \n",
       "2     1     4    181.00          181.0            0.00             0.0   \n",
       "3     1     1    181.00          181.0            0.00         21182.0   \n",
       "4     1     3  11668.14        41554.0        29885.86             0.0   \n",
       "\n",
       "   newbalanceDest  isFraud  \n",
       "0             0.0        0  \n",
       "1             0.0        0  \n",
       "2             0.0        1  \n",
       "3             0.0        1  \n",
       "4             0.0        0  "
      ]
     },
     "execution_count": 9,
     "metadata": {},
     "output_type": "execute_result"
    }
   ],
   "source": [
    "le = LabelEncoder()\n",
    "df[\"type\"] = le.fit_transform(df[\"type\"])\n",
    "df.head()"
   ]
  },
  {
   "cell_type": "code",
   "execution_count": 10,
   "id": "ce0598aa",
   "metadata": {
    "ExecuteTime": {
     "end_time": "2025-06-18T03:15:20.055136Z",
     "start_time": "2025-06-18T03:15:18.975089Z"
    }
   },
   "outputs": [],
   "source": [
    "# Normalisasi fitur numerik\n",
    "scaler = MinMaxScaler()\n",
    "df_scaled = pd.DataFrame(scaler.fit_transform(df.drop(\"isFraud\", axis=1)), columns=df.drop(\"isFraud\", axis=1).columns)"
   ]
  },
  {
   "cell_type": "code",
   "execution_count": 11,
   "id": "f75043da",
   "metadata": {
    "ExecuteTime": {
     "end_time": "2025-06-18T03:15:20.088794Z",
     "start_time": "2025-06-18T03:15:20.072499Z"
    }
   },
   "outputs": [
    {
     "data": {
      "text/html": [
       "<div>\n",
       "<style scoped>\n",
       "    .dataframe tbody tr th:only-of-type {\n",
       "        vertical-align: middle;\n",
       "    }\n",
       "\n",
       "    .dataframe tbody tr th {\n",
       "        vertical-align: top;\n",
       "    }\n",
       "\n",
       "    .dataframe thead th {\n",
       "        text-align: right;\n",
       "    }\n",
       "</style>\n",
       "<table border=\"1\" class=\"dataframe\">\n",
       "  <thead>\n",
       "    <tr style=\"text-align: right;\">\n",
       "      <th></th>\n",
       "      <th>step</th>\n",
       "      <th>type</th>\n",
       "      <th>amount</th>\n",
       "      <th>oldbalanceOrg</th>\n",
       "      <th>newbalanceOrig</th>\n",
       "      <th>oldbalanceDest</th>\n",
       "      <th>newbalanceDest</th>\n",
       "    </tr>\n",
       "  </thead>\n",
       "  <tbody>\n",
       "    <tr>\n",
       "      <th>0</th>\n",
       "      <td>0.0</td>\n",
       "      <td>0.75</td>\n",
       "      <td>0.000106</td>\n",
       "      <td>0.002855</td>\n",
       "      <td>0.003233</td>\n",
       "      <td>0.000000</td>\n",
       "      <td>0.0</td>\n",
       "    </tr>\n",
       "    <tr>\n",
       "      <th>1</th>\n",
       "      <td>0.0</td>\n",
       "      <td>0.75</td>\n",
       "      <td>0.000020</td>\n",
       "      <td>0.000357</td>\n",
       "      <td>0.000391</td>\n",
       "      <td>0.000000</td>\n",
       "      <td>0.0</td>\n",
       "    </tr>\n",
       "    <tr>\n",
       "      <th>2</th>\n",
       "      <td>0.0</td>\n",
       "      <td>1.00</td>\n",
       "      <td>0.000002</td>\n",
       "      <td>0.000003</td>\n",
       "      <td>0.000000</td>\n",
       "      <td>0.000000</td>\n",
       "      <td>0.0</td>\n",
       "    </tr>\n",
       "    <tr>\n",
       "      <th>3</th>\n",
       "      <td>0.0</td>\n",
       "      <td>0.25</td>\n",
       "      <td>0.000002</td>\n",
       "      <td>0.000003</td>\n",
       "      <td>0.000000</td>\n",
       "      <td>0.000059</td>\n",
       "      <td>0.0</td>\n",
       "    </tr>\n",
       "    <tr>\n",
       "      <th>4</th>\n",
       "      <td>0.0</td>\n",
       "      <td>0.75</td>\n",
       "      <td>0.000126</td>\n",
       "      <td>0.000697</td>\n",
       "      <td>0.000603</td>\n",
       "      <td>0.000000</td>\n",
       "      <td>0.0</td>\n",
       "    </tr>\n",
       "  </tbody>\n",
       "</table>\n",
       "</div>"
      ],
      "text/plain": [
       "   step  type    amount  oldbalanceOrg  newbalanceOrig  oldbalanceDest  \\\n",
       "0   0.0  0.75  0.000106       0.002855        0.003233        0.000000   \n",
       "1   0.0  0.75  0.000020       0.000357        0.000391        0.000000   \n",
       "2   0.0  1.00  0.000002       0.000003        0.000000        0.000000   \n",
       "3   0.0  0.25  0.000002       0.000003        0.000000        0.000059   \n",
       "4   0.0  0.75  0.000126       0.000697        0.000603        0.000000   \n",
       "\n",
       "   newbalanceDest  \n",
       "0             0.0  \n",
       "1             0.0  \n",
       "2             0.0  \n",
       "3             0.0  \n",
       "4             0.0  "
      ]
     },
     "execution_count": 11,
     "metadata": {},
     "output_type": "execute_result"
    }
   ],
   "source": [
    "df_scaled.head()"
   ]
  },
  {
   "cell_type": "code",
   "execution_count": 12,
   "id": "b7b1a533",
   "metadata": {
    "ExecuteTime": {
     "end_time": "2025-06-18T03:15:22.564897Z",
     "start_time": "2025-06-18T03:15:22.534756Z"
    }
   },
   "outputs": [
    {
     "data": {
      "text/html": [
       "<div>\n",
       "<style scoped>\n",
       "    .dataframe tbody tr th:only-of-type {\n",
       "        vertical-align: middle;\n",
       "    }\n",
       "\n",
       "    .dataframe tbody tr th {\n",
       "        vertical-align: top;\n",
       "    }\n",
       "\n",
       "    .dataframe thead th {\n",
       "        text-align: right;\n",
       "    }\n",
       "</style>\n",
       "<table border=\"1\" class=\"dataframe\">\n",
       "  <thead>\n",
       "    <tr style=\"text-align: right;\">\n",
       "      <th></th>\n",
       "      <th>step</th>\n",
       "      <th>type</th>\n",
       "      <th>amount</th>\n",
       "      <th>oldbalanceOrg</th>\n",
       "      <th>newbalanceOrig</th>\n",
       "      <th>oldbalanceDest</th>\n",
       "      <th>newbalanceDest</th>\n",
       "      <th>isFraud</th>\n",
       "    </tr>\n",
       "  </thead>\n",
       "  <tbody>\n",
       "    <tr>\n",
       "      <th>0</th>\n",
       "      <td>0.0</td>\n",
       "      <td>0.75</td>\n",
       "      <td>0.000106</td>\n",
       "      <td>0.002855</td>\n",
       "      <td>0.003233</td>\n",
       "      <td>0.000000</td>\n",
       "      <td>0.0</td>\n",
       "      <td>0</td>\n",
       "    </tr>\n",
       "    <tr>\n",
       "      <th>1</th>\n",
       "      <td>0.0</td>\n",
       "      <td>0.75</td>\n",
       "      <td>0.000020</td>\n",
       "      <td>0.000357</td>\n",
       "      <td>0.000391</td>\n",
       "      <td>0.000000</td>\n",
       "      <td>0.0</td>\n",
       "      <td>0</td>\n",
       "    </tr>\n",
       "    <tr>\n",
       "      <th>2</th>\n",
       "      <td>0.0</td>\n",
       "      <td>1.00</td>\n",
       "      <td>0.000002</td>\n",
       "      <td>0.000003</td>\n",
       "      <td>0.000000</td>\n",
       "      <td>0.000000</td>\n",
       "      <td>0.0</td>\n",
       "      <td>1</td>\n",
       "    </tr>\n",
       "    <tr>\n",
       "      <th>3</th>\n",
       "      <td>0.0</td>\n",
       "      <td>0.25</td>\n",
       "      <td>0.000002</td>\n",
       "      <td>0.000003</td>\n",
       "      <td>0.000000</td>\n",
       "      <td>0.000059</td>\n",
       "      <td>0.0</td>\n",
       "      <td>1</td>\n",
       "    </tr>\n",
       "    <tr>\n",
       "      <th>4</th>\n",
       "      <td>0.0</td>\n",
       "      <td>0.75</td>\n",
       "      <td>0.000126</td>\n",
       "      <td>0.000697</td>\n",
       "      <td>0.000603</td>\n",
       "      <td>0.000000</td>\n",
       "      <td>0.0</td>\n",
       "      <td>0</td>\n",
       "    </tr>\n",
       "  </tbody>\n",
       "</table>\n",
       "</div>"
      ],
      "text/plain": [
       "   step  type    amount  oldbalanceOrg  newbalanceOrig  oldbalanceDest  \\\n",
       "0   0.0  0.75  0.000106       0.002855        0.003233        0.000000   \n",
       "1   0.0  0.75  0.000020       0.000357        0.000391        0.000000   \n",
       "2   0.0  1.00  0.000002       0.000003        0.000000        0.000000   \n",
       "3   0.0  0.25  0.000002       0.000003        0.000000        0.000059   \n",
       "4   0.0  0.75  0.000126       0.000697        0.000603        0.000000   \n",
       "\n",
       "   newbalanceDest  isFraud  \n",
       "0             0.0        0  \n",
       "1             0.0        0  \n",
       "2             0.0        1  \n",
       "3             0.0        1  \n",
       "4             0.0        0  "
      ]
     },
     "execution_count": 12,
     "metadata": {},
     "output_type": "execute_result"
    }
   ],
   "source": [
    "# Tambahkan isFraud kembali, untuk nanti testing\n",
    "df_scaled[\"isFraud\"] = df[\"isFraud\"].values\n",
    "df_scaled.head()"
   ]
  },
  {
   "cell_type": "code",
   "execution_count": 13,
   "id": "42139ef5",
   "metadata": {
    "ExecuteTime": {
     "end_time": "2025-06-18T03:15:24.913544Z",
     "start_time": "2025-06-18T03:15:24.415779Z"
    }
   },
   "outputs": [
    {
     "data": {
      "text/html": [
       "<div>\n",
       "<style scoped>\n",
       "    .dataframe tbody tr th:only-of-type {\n",
       "        vertical-align: middle;\n",
       "    }\n",
       "\n",
       "    .dataframe tbody tr th {\n",
       "        vertical-align: top;\n",
       "    }\n",
       "\n",
       "    .dataframe thead th {\n",
       "        text-align: right;\n",
       "    }\n",
       "</style>\n",
       "<table border=\"1\" class=\"dataframe\">\n",
       "  <thead>\n",
       "    <tr style=\"text-align: right;\">\n",
       "      <th></th>\n",
       "      <th>step</th>\n",
       "      <th>type</th>\n",
       "      <th>amount</th>\n",
       "      <th>oldbalanceOrg</th>\n",
       "      <th>newbalanceOrig</th>\n",
       "      <th>oldbalanceDest</th>\n",
       "      <th>newbalanceDest</th>\n",
       "    </tr>\n",
       "  </thead>\n",
       "  <tbody>\n",
       "    <tr>\n",
       "      <th>0</th>\n",
       "      <td>0.0</td>\n",
       "      <td>0.75</td>\n",
       "      <td>0.000106</td>\n",
       "      <td>0.002855</td>\n",
       "      <td>0.003233</td>\n",
       "      <td>0.0</td>\n",
       "      <td>0.0</td>\n",
       "    </tr>\n",
       "    <tr>\n",
       "      <th>1</th>\n",
       "      <td>0.0</td>\n",
       "      <td>0.75</td>\n",
       "      <td>0.000020</td>\n",
       "      <td>0.000357</td>\n",
       "      <td>0.000391</td>\n",
       "      <td>0.0</td>\n",
       "      <td>0.0</td>\n",
       "    </tr>\n",
       "    <tr>\n",
       "      <th>4</th>\n",
       "      <td>0.0</td>\n",
       "      <td>0.75</td>\n",
       "      <td>0.000126</td>\n",
       "      <td>0.000697</td>\n",
       "      <td>0.000603</td>\n",
       "      <td>0.0</td>\n",
       "      <td>0.0</td>\n",
       "    </tr>\n",
       "    <tr>\n",
       "      <th>5</th>\n",
       "      <td>0.0</td>\n",
       "      <td>0.75</td>\n",
       "      <td>0.000085</td>\n",
       "      <td>0.000904</td>\n",
       "      <td>0.000929</td>\n",
       "      <td>0.0</td>\n",
       "      <td>0.0</td>\n",
       "    </tr>\n",
       "    <tr>\n",
       "      <th>6</th>\n",
       "      <td>0.0</td>\n",
       "      <td>0.75</td>\n",
       "      <td>0.000077</td>\n",
       "      <td>0.003075</td>\n",
       "      <td>0.003551</td>\n",
       "      <td>0.0</td>\n",
       "      <td>0.0</td>\n",
       "    </tr>\n",
       "  </tbody>\n",
       "</table>\n",
       "</div>"
      ],
      "text/plain": [
       "   step  type    amount  oldbalanceOrg  newbalanceOrig  oldbalanceDest  \\\n",
       "0   0.0  0.75  0.000106       0.002855        0.003233             0.0   \n",
       "1   0.0  0.75  0.000020       0.000357        0.000391             0.0   \n",
       "4   0.0  0.75  0.000126       0.000697        0.000603             0.0   \n",
       "5   0.0  0.75  0.000085       0.000904        0.000929             0.0   \n",
       "6   0.0  0.75  0.000077       0.003075        0.003551             0.0   \n",
       "\n",
       "   newbalanceDest  \n",
       "0             0.0  \n",
       "1             0.0  \n",
       "4             0.0  \n",
       "5             0.0  \n",
       "6             0.0  "
      ]
     },
     "execution_count": 13,
     "metadata": {},
     "output_type": "execute_result"
    }
   ],
   "source": [
    "df_train = df_scaled[df_scaled[\"isFraud\"] == 0].drop(\"isFraud\", axis=1)\n",
    "df_train.head()"
   ]
  },
  {
   "cell_type": "code",
   "execution_count": 16,
   "id": "e6dfa1e6",
   "metadata": {
    "ExecuteTime": {
     "end_time": "2025-06-18T03:46:24.006884Z",
     "start_time": "2025-06-18T03:46:04.117946Z"
    }
   },
   "outputs": [
    {
     "data": {
      "text/plain": [
       "step      type  amount    oldbalanceOrg  newbalanceOrig  oldbalanceDest  newbalanceDest\n",
       "0.413747  0.75  0.000006  0.000000       0.0             0.000000        0.000000          2\n",
       "0.336927  0.75  0.000123  0.000000       0.0             0.000000        0.000000          2\n",
       "0.308625  0.75  0.000029  0.000000       0.0             0.000000        0.000000          2\n",
       "0.339623  0.75  0.000072  0.000000       0.0             0.000000        0.000000          2\n",
       "0.497305  0.75  0.000006  0.000000       0.0             0.000000        0.000000          2\n",
       "                                                                                          ..\n",
       "0.245283  0.25  0.003554  0.000000       0.0             0.001711        0.002633          1\n",
       "                          0.000862       0.0             0.001232        0.002154          1\n",
       "                0.003552  0.000000       0.0             0.010463        0.011380          1\n",
       "                          0.000172       0.0             0.000108        0.000000          1\n",
       "0.966307  1.00  0.003135  0.001789       0.0             0.000000        0.000814          1\n",
       "Name: count, Length: 6353880, dtype: int64"
      ]
     },
     "execution_count": 16,
     "metadata": {},
     "output_type": "execute_result"
    }
   ],
   "source": [
    "df_train.value_counts()"
   ]
  },
  {
   "cell_type": "code",
   "execution_count": 17,
   "id": "8315917b",
   "metadata": {
    "ExecuteTime": {
     "end_time": "2025-06-18T03:46:24.679371Z",
     "start_time": "2025-06-18T03:46:24.026991Z"
    }
   },
   "outputs": [
    {
     "data": {
      "text/plain": [
       "step              6362620\n",
       "type              6362620\n",
       "amount            6362620\n",
       "oldbalanceOrg     6362620\n",
       "newbalanceOrig    6362620\n",
       "oldbalanceDest    6362620\n",
       "newbalanceDest    6362620\n",
       "dtype: int64"
      ]
     },
     "execution_count": 17,
     "metadata": {},
     "output_type": "execute_result"
    }
   ],
   "source": [
    "df_test = df_scaled.drop(\"isFraud\", axis=1)\n",
    "df_test.head()\n",
    "df_test.count()"
   ]
  },
  {
   "cell_type": "markdown",
   "id": "55def182",
   "metadata": {},
   "source": [
    "# **training**"
   ]
  },
  {
   "cell_type": "code",
   "execution_count": 18,
   "id": "af310213",
   "metadata": {
    "ExecuteTime": {
     "end_time": "2025-06-18T03:46:25.471050Z",
     "start_time": "2025-06-18T03:46:24.693499Z"
    }
   },
   "outputs": [],
   "source": [
    "input_dim = df_train.shape[1]\n",
    "\n",
    "# Build Autoencoder\n",
    "autoencoder = models.Sequential([\n",
    "    layers.Input(shape=(input_dim,)),\n",
    "    layers.Dense(16, activation='relu'),\n",
    "    layers.Dense(8, activation='relu'),\n",
    "    layers.Dense(4, activation='relu'),  # Bottleneck\n",
    "    layers.Dense(8, activation='relu'),\n",
    "    layers.Dense(16, activation='relu'),\n",
    "    layers.Dense(input_dim, activation='linear')\n",
    "])"
   ]
  },
  {
   "cell_type": "code",
   "execution_count": 19,
   "id": "2b201fc0",
   "metadata": {
    "ExecuteTime": {
     "end_time": "2025-06-18T04:27:40.704546Z",
     "start_time": "2025-06-18T03:46:25.485326Z"
    }
   },
   "outputs": [
    {
     "name": "stdout",
     "output_type": "stream",
     "text": [
      "Epoch 1/30\n",
      "\u001b[1m19858/19858\u001b[0m \u001b[32m━━━━━━━━━━━━━━━━━━━━\u001b[0m\u001b[37m\u001b[0m \u001b[1m38s\u001b[0m 2ms/step - loss: 3.7717e-04 - val_loss: 4.9971e-05\n",
      "Epoch 2/30\n",
      "\u001b[1m19858/19858\u001b[0m \u001b[32m━━━━━━━━━━━━━━━━━━━━\u001b[0m\u001b[37m\u001b[0m \u001b[1m34s\u001b[0m 2ms/step - loss: 1.6199e-06 - val_loss: 5.8766e-05\n",
      "Epoch 3/30\n",
      "\u001b[1m19858/19858\u001b[0m \u001b[32m━━━━━━━━━━━━━━━━━━━━\u001b[0m\u001b[37m\u001b[0m \u001b[1m34s\u001b[0m 2ms/step - loss: 9.7054e-07 - val_loss: 6.5299e-05\n",
      "Epoch 4/30\n",
      "\u001b[1m19858/19858\u001b[0m \u001b[32m━━━━━━━━━━━━━━━━━━━━\u001b[0m\u001b[37m\u001b[0m \u001b[1m34s\u001b[0m 2ms/step - loss: 8.3682e-07 - val_loss: 6.5673e-05\n",
      "Epoch 5/30\n",
      "\u001b[1m19858/19858\u001b[0m \u001b[32m━━━━━━━━━━━━━━━━━━━━\u001b[0m\u001b[37m\u001b[0m \u001b[1m34s\u001b[0m 2ms/step - loss: 7.9839e-07 - val_loss: 6.0140e-05\n",
      "Epoch 6/30\n",
      "\u001b[1m19858/19858\u001b[0m \u001b[32m━━━━━━━━━━━━━━━━━━━━\u001b[0m\u001b[37m\u001b[0m \u001b[1m34s\u001b[0m 2ms/step - loss: 7.2490e-07 - val_loss: 7.0225e-05\n",
      "Epoch 7/30\n",
      "\u001b[1m19858/19858\u001b[0m \u001b[32m━━━━━━━━━━━━━━━━━━━━\u001b[0m\u001b[37m\u001b[0m \u001b[1m35s\u001b[0m 2ms/step - loss: 6.8851e-07 - val_loss: 8.0519e-05\n",
      "Epoch 8/30\n",
      "\u001b[1m19858/19858\u001b[0m \u001b[32m━━━━━━━━━━━━━━━━━━━━\u001b[0m\u001b[37m\u001b[0m \u001b[1m34s\u001b[0m 2ms/step - loss: 6.5279e-07 - val_loss: 9.5506e-05\n",
      "Epoch 9/30\n",
      "\u001b[1m19858/19858\u001b[0m \u001b[32m━━━━━━━━━━━━━━━━━━━━\u001b[0m\u001b[37m\u001b[0m \u001b[1m34s\u001b[0m 2ms/step - loss: 6.1972e-07 - val_loss: 1.1455e-04\n",
      "Epoch 10/30\n",
      "\u001b[1m19858/19858\u001b[0m \u001b[32m━━━━━━━━━━━━━━━━━━━━\u001b[0m\u001b[37m\u001b[0m \u001b[1m34s\u001b[0m 2ms/step - loss: 5.9865e-07 - val_loss: 1.1263e-04\n",
      "Epoch 11/30\n",
      "\u001b[1m19858/19858\u001b[0m \u001b[32m━━━━━━━━━━━━━━━━━━━━\u001b[0m\u001b[37m\u001b[0m \u001b[1m34s\u001b[0m 2ms/step - loss: 5.9796e-07 - val_loss: 1.2154e-04\n",
      "Epoch 12/30\n",
      "\u001b[1m19858/19858\u001b[0m \u001b[32m━━━━━━━━━━━━━━━━━━━━\u001b[0m\u001b[37m\u001b[0m \u001b[1m34s\u001b[0m 2ms/step - loss: 5.3617e-07 - val_loss: 1.3987e-04\n",
      "Epoch 13/30\n",
      "\u001b[1m19858/19858\u001b[0m \u001b[32m━━━━━━━━━━━━━━━━━━━━\u001b[0m\u001b[37m\u001b[0m \u001b[1m34s\u001b[0m 2ms/step - loss: 5.1923e-07 - val_loss: 1.4072e-04\n",
      "Epoch 14/30\n",
      "\u001b[1m19858/19858\u001b[0m \u001b[32m━━━━━━━━━━━━━━━━━━━━\u001b[0m\u001b[37m\u001b[0m \u001b[1m34s\u001b[0m 2ms/step - loss: 5.6149e-07 - val_loss: 1.4252e-04\n",
      "Epoch 15/30\n",
      "\u001b[1m19858/19858\u001b[0m \u001b[32m━━━━━━━━━━━━━━━━━━━━\u001b[0m\u001b[37m\u001b[0m \u001b[1m35s\u001b[0m 2ms/step - loss: 4.7959e-07 - val_loss: 1.7025e-04\n",
      "Epoch 16/30\n",
      "\u001b[1m19858/19858\u001b[0m \u001b[32m━━━━━━━━━━━━━━━━━━━━\u001b[0m\u001b[37m\u001b[0m \u001b[1m34s\u001b[0m 2ms/step - loss: 4.9047e-07 - val_loss: 1.5505e-04\n",
      "Epoch 17/30\n",
      "\u001b[1m19858/19858\u001b[0m \u001b[32m━━━━━━━━━━━━━━━━━━━━\u001b[0m\u001b[37m\u001b[0m \u001b[1m34s\u001b[0m 2ms/step - loss: 4.7434e-07 - val_loss: 1.6342e-04\n",
      "Epoch 18/30\n",
      "\u001b[1m19858/19858\u001b[0m \u001b[32m━━━━━━━━━━━━━━━━━━━━\u001b[0m\u001b[37m\u001b[0m \u001b[1m34s\u001b[0m 2ms/step - loss: 4.8934e-07 - val_loss: 1.5963e-04\n",
      "Epoch 19/30\n",
      "\u001b[1m19858/19858\u001b[0m \u001b[32m━━━━━━━━━━━━━━━━━━━━\u001b[0m\u001b[37m\u001b[0m \u001b[1m34s\u001b[0m 2ms/step - loss: 4.7830e-07 - val_loss: 1.6727e-04\n",
      "Epoch 20/30\n",
      "\u001b[1m19858/19858\u001b[0m \u001b[32m━━━━━━━━━━━━━━━━━━━━\u001b[0m\u001b[37m\u001b[0m \u001b[1m39s\u001b[0m 2ms/step - loss: 4.5229e-07 - val_loss: 1.6040e-04\n",
      "Epoch 21/30\n",
      "\u001b[1m19858/19858\u001b[0m \u001b[32m━━━━━━━━━━━━━━━━━━━━\u001b[0m\u001b[37m\u001b[0m \u001b[1m34s\u001b[0m 2ms/step - loss: 4.6253e-07 - val_loss: 1.6460e-04\n",
      "Epoch 22/30\n",
      "\u001b[1m19858/19858\u001b[0m \u001b[32m━━━━━━━━━━━━━━━━━━━━\u001b[0m\u001b[37m\u001b[0m \u001b[1m34s\u001b[0m 2ms/step - loss: 4.5094e-07 - val_loss: 1.6081e-04\n",
      "Epoch 23/30\n",
      "\u001b[1m19858/19858\u001b[0m \u001b[32m━━━━━━━━━━━━━━━━━━━━\u001b[0m\u001b[37m\u001b[0m \u001b[1m34s\u001b[0m 2ms/step - loss: 4.3812e-07 - val_loss: 1.6423e-04\n",
      "Epoch 24/30\n",
      "\u001b[1m19858/19858\u001b[0m \u001b[32m━━━━━━━━━━━━━━━━━━━━\u001b[0m\u001b[37m\u001b[0m \u001b[1m34s\u001b[0m 2ms/step - loss: 4.4983e-07 - val_loss: 1.5707e-04\n",
      "Epoch 25/30\n",
      "\u001b[1m19858/19858\u001b[0m \u001b[32m━━━━━━━━━━━━━━━━━━━━\u001b[0m\u001b[37m\u001b[0m \u001b[1m35s\u001b[0m 2ms/step - loss: 4.5398e-07 - val_loss: 1.6251e-04\n",
      "Epoch 26/30\n",
      "\u001b[1m19858/19858\u001b[0m \u001b[32m━━━━━━━━━━━━━━━━━━━━\u001b[0m\u001b[37m\u001b[0m \u001b[1m36s\u001b[0m 2ms/step - loss: 4.2779e-07 - val_loss: 1.6288e-04\n",
      "Epoch 27/30\n",
      "\u001b[1m19858/19858\u001b[0m \u001b[32m━━━━━━━━━━━━━━━━━━━━\u001b[0m\u001b[37m\u001b[0m \u001b[1m33s\u001b[0m 2ms/step - loss: 4.2998e-07 - val_loss: 1.6582e-04\n",
      "Epoch 28/30\n",
      "\u001b[1m19858/19858\u001b[0m \u001b[32m━━━━━━━━━━━━━━━━━━━━\u001b[0m\u001b[37m\u001b[0m \u001b[1m1470s\u001b[0m 74ms/step - loss: 3.9217e-07 - val_loss: 1.6207e-04\n",
      "Epoch 29/30\n",
      "\u001b[1m19858/19858\u001b[0m \u001b[32m━━━━━━━━━━━━━━━━━━━━\u001b[0m\u001b[37m\u001b[0m \u001b[1m34s\u001b[0m 2ms/step - loss: 4.3924e-07 - val_loss: 1.6321e-04\n",
      "Epoch 30/30\n",
      "\u001b[1m19858/19858\u001b[0m \u001b[32m━━━━━━━━━━━━━━━━━━━━\u001b[0m\u001b[37m\u001b[0m \u001b[1m34s\u001b[0m 2ms/step - loss: 4.0710e-07 - val_loss: 1.6393e-04\n"
     ]
    }
   ],
   "source": [
    "autoencoder.compile(optimizer=Adam(learning_rate=0.001), loss='mse')\n",
    "\n",
    "# Train model\n",
    "history = autoencoder.fit(df_train, df_train,\n",
    "                          epochs=30,\n",
    "                          batch_size=256,\n",
    "                          shuffle=True,\n",
    "                          validation_split=0.2,\n",
    "                          verbose=1)"
   ]
  },
  {
   "cell_type": "markdown",
   "id": "2eeed7d7",
   "metadata": {
    "ExecuteTime": {
     "end_time": "2025-06-15T05:11:54.716480Z",
     "start_time": "2025-06-15T05:11:54.713117Z"
    }
   },
   "source": [
    "# **Prediksi**"
   ]
  },
  {
   "cell_type": "code",
   "execution_count": null,
   "id": "ee0e14c0",
   "metadata": {
    "ExecuteTime": {
     "start_time": "2025-06-18T06:10:48.250Z"
    }
   },
   "outputs": [],
   "source": [
    "# Prediksi rekonstruksi data test\n",
    "reconstructions = autoencoder.predict(df_test)\n",
    "\n",
    "# Hitung MSE tiap baris\n",
    "mse = np.mean(np.power(df_test - reconstructions, 2), axis=1)\n",
    "print (\"MSE : \",mse)\n",
    "\n",
    "# Plot distribusi error rekonstruksi\n",
    "plt.figure(figsize=(10,6))\n",
    "sns.histplot(mse, bins=50, kde=True)\n",
    "plt.title(\"Distribusi Error Rekonstruksi\")\n",
    "plt.xlabel(\"MSE\")\n",
    "plt.ylabel(\"Jumlah Data\")\n",
    "plt.show()\n",
    "\n",
    "\n",
    "threshold = np.percentile(mse, 99)\n",
    "print(threshold)\n",
    "print(\"Threshold Anomali:\", threshold)"
   ]
  },
  {
   "cell_type": "code",
   "execution_count": null,
   "id": "7aeb8237",
   "metadata": {
    "ExecuteTime": {
     "start_time": "2025-06-18T06:10:55.074Z"
    }
   },
   "outputs": [],
   "source": [
    "plt.hist(mse_errors, bins=50)\n",
    "plt.axvline(threshold, color='r')\n",
    "plt.title(\"Distribusi MSE Rekonstruksi Error\")\n",
    "plt.xlabel(\"MSE\")\n",
    "plt.ylabel(\"Jumlah Data\")\n",
    "plt.show()"
   ]
  },
  {
   "cell_type": "code",
   "execution_count": 22,
   "id": "a877e91c",
   "metadata": {
    "ExecuteTime": {
     "end_time": "2025-06-18T05:58:58.453768Z",
     "start_time": "2025-06-18T05:58:58.438273Z"
    }
   },
   "outputs": [
    {
     "name": "stdout",
     "output_type": "stream",
     "text": [
      "Jumlah Anomali Terdeteksi: 318131\n"
     ]
    }
   ],
   "source": [
    "# Tandai anomaly kalau error > threshold\n",
    "anomalies = mse > threshold\n",
    "\n",
    "# Tampilkan jumlah anomaly\n",
    "print(\"Jumlah Anomali Terdeteksi:\", np.sum(anomalies))"
   ]
  },
  {
   "cell_type": "code",
   "execution_count": 24,
   "id": "ec3edbd6",
   "metadata": {
    "ExecuteTime": {
     "end_time": "2025-06-18T06:03:43.809845Z",
     "start_time": "2025-06-18T06:03:43.621071Z"
    },
    "scrolled": true
   },
   "outputs": [
    {
     "data": {
      "image/png": "[encoded data removed]",
      "text/plain": [
       "<Figure size 640x480 with 1 Axes>"
      ]
     },
     "metadata": {},
     "output_type": "display_data"
    }
   ],
   "source": [
    "#perbandingan data anomali dengan data sesungguhnya\n",
    "labels = ['Prediksi', 'Asli']\n",
    "values = [np.sum(anomalies), (df[\"isFraud\"]==1).sum()]\n",
    "\n",
    "plt.bar(labels, values, color=['orange', 'green'])\n",
    "plt.ylabel('Jumlah')\n",
    "plt.title('Fraud Prediksi vs Fraud Asli')\n",
    "plt.show()"
   ]
  },
  {
   "cell_type": "code",
   "execution_count": 26,
   "id": "afb166c4",
   "metadata": {
    "ExecuteTime": {
     "end_time": "2025-06-18T06:04:04.834195Z",
     "start_time": "2025-06-18T06:04:04.092451Z"
    }
   },
   "outputs": [
    {
     "name": "stdout",
     "output_type": "stream",
     "text": [
      "Anomali yang benar-benar fraud: 4287 dari 318131 anomaly terdeteksi\n"
     ]
    }
   ],
   "source": [
    "#Anomaly index\n",
    "anomaly_indices = np.where(anomalies)[0]\n",
    "\n",
    "# Berapa anomaly yang memang fraud\n",
    "true_positive = df.iloc[anomaly_indices][\"isFraud\"].sum()\n",
    "\n",
    "print(f\"Anomali yang benar-benar fraud: {true_positive} dari {np.sum(anomalies)} anomaly terdeteksi\")"
   ]
  },
  {
   "cell_type": "code",
   "execution_count": null,
   "id": "4f689d7e",
   "metadata": {
    "ExecuteTime": {
     "end_time": "2025-06-18T05:58:58.787106Z",
     "start_time": "2025-06-18T05:58:58.787106Z"
    }
   },
   "outputs": [],
   "source": [
    "df_result = df_scaled.copy()\n",
    "df_result[\"reconstruction_error\"] = mse\n",
    "df_result[\"is_anomaly\"] = anomalies\n",
    "\n",
    "# Lihat data anomaly saja\n",
    "df_anomalies = df_result[df_result[\"is_anomaly\"] == True]\n",
    "print(df_anomalies.head())"
   ]
  },
  {
   "cell_type": "code",
   "execution_count": null,
   "id": "026510f7",
   "metadata": {},
   "outputs": [],
   "source": []
  }
 ],
 "metadata": {
  "kernelspec": {
   "display_name": "Python 3 (ipykernel)",
   "language": "python",
   "name": "python3"
  },
  "language_info": {
   "codemirror_mode": {
    "name": "ipython",
    "version": 3
   },
   "file_extension": ".py",
   "mimetype": "text/x-python",
   "name": "python",
   "nbconvert_exporter": "python",
   "pygments_lexer": "ipython3",
   "version": "3.12.3"
  },
  "toc": {
   "base_numbering": 1,
   "nav_menu": {},
   "number_sections": true,
   "sideBar": true,
   "skip_h1_title": false,
   "title_cell": "Table of Contents",
   "title_sidebar": "Contents",
   "toc_cell": false,
   "toc_position": {},
   "toc_section_display": true,
   "toc_window_display": false
  },
  "varInspector": {
   "cols": {
    "lenName": 16,
    "lenType": 16,
    "lenVar": 40
   },
   "kernels_config": {
    "python": {
     "delete_cmd_postfix": "",
     "delete_cmd_prefix": "del ",
     "library": "var_list.py",
     "varRefreshCmd": "print(var_dic_list())"
    },
    "r": {
     "delete_cmd_postfix": ") ",
     "delete_cmd_prefix": "rm(",
     "library": "var_list.r",
     "varRefreshCmd": "cat(var_dic_list()) "
    }
   },
   "types_to_exclude": [
    "module",
    "function",
    "builtin_function_or_method",
    "instance",
    "_Feature"
   ],
   "window_display": false
  }
 },
 "nbformat": 4,
 "nbformat_minor": 5
}
